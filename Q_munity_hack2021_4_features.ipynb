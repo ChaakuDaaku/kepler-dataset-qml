{
  "nbformat": 4,
  "nbformat_minor": 0,
  "metadata": {
    "colab": {
      "name": "Q-munity-hack2021.ipynb",
      "provenance": [],
      "collapsed_sections": []
    },
    "kernelspec": {
      "display_name": "Python 3 (system-wide)",
      "language": "python",
      "name": "python3"
    },
    "language_info": {
      "codemirror_mode": {
        "name": "ipython",
        "version": 3
      },
      "file_extension": ".py",
      "mimetype": "text/x-python",
      "name": "python",
      "nbconvert_exporter": "python",
      "pygments_lexer": "ipython3",
      "version": "3.8.5"
    }
  },
  "cells": [
    {
      "cell_type": "markdown",
      "metadata": {
        "id": "os_m7Xu8ZDqP"
      },
      "source": [
        "**Quantum Kepler Exoplanet detection using Data Reupload and Multi-layered Architecture**\n",
        "\n",
        "Ashish Arya,          Vivek Patil,            Rajatav,         Lakshika\n",
        "\n",
        "\n"
      ]
    },
    {
      "cell_type": "markdown",
      "metadata": {
        "id": "lkMRiNxoaECm"
      },
      "source": [
        "**Problem Statement**\n",
        "Astronomical data analysis has been a celebrated problem for classical machine learning.Exoplanet detection through astronomical data is known for its peculiar challenges for astronomers. Advances in telescope technology have made it possible to install telescopes in space to obtain images from objects lightyears away. However this has given rise to humongous datasets which are difficult to analyse and interpret.\n",
        " \n",
        "Kepler telescope was commissioned in 2009 for detection of exoplanets. Over the years the dataset obtained from the Kepler telescope has gained a reputation in astronomical data analysis similar to MNIST dataset in statistical data analysis. \n",
        " \n",
        "In recent times, state-of-the-art machine learning approaches including k-nearest neighbour, Principal Component Analysis, Convolution Neural Network, Recurrent Neural Network have been applied to the Kepler's noisy dataset. The results have been encouraging. However they suffer from lack of faster execution and complicated algorithms.The analysis of Kepler astronomical data is  prone to high number of false positives. \n",
        " \n",
        "Quantum Computing is the latest addition in the line of emerging technologies proving to be a viable solution for the complex problems which take years for classical supercomputer to solve. \n",
        " \n",
        "Since nearly all latest exoplanet discoveries are made using data science coupled with new approaches. In the year 2020 alone, 261 exoplanets were detected. \n",
        " \n",
        "Given the specific nature of the Kepler dataset, it is evident to employ techniques of Quantum Computing to take advantage of its inherent parallelism. Quantum entanglement and superposition could prove beneficial to analyse Kepler dataset in faster duration avoiding spurious detection.\n",
        "\n",
        "\n",
        "\n",
        "\n",
        "\n"
      ]
    },
    {
      "cell_type": "markdown",
      "metadata": {
        "id": "_abkobSennFs"
      },
      "source": [
        "**Solution Statement**\n",
        " \n",
        " \n",
        "We have approached the problem of exoplanet detection from the Kepler dataset from a Quantum Computing perspective specifically considering the limit on uses of qubits and faithful representation of data fed into the Quantum Circuit.\n",
        " \n",
        "The Kepler dataset has 9564 rows and 50 columns consisting of observations of sensors as well as a few derived parameters. The dataset is subjected to null values. The labels were in three categories Confirmed, Candidate and False positive. \n",
        " \n",
        "During pre-processing of the data, labels were converted to binary [0,1] and null values were removed. Out of 49 features of the datasets, most relevant 4 (and 6) features were selected.\n",
        " \n",
        "Date reuploading concept uses a single qubit to represent arbitrarily high dimensional data. Multi-layers learning model strategy allows us to train the Quantum classifier circuit avoiding the problem of barren plateaus and achieve lesser depth circuits successfully. \n",
        "In the processing of training the model we used Variational Quantum Circuit for Data reuploading in a five layered quantum network. Each layer has been trained separately using the dataset. Mean-squared-error has been used as the cost function for training the network. \n",
        "We performed the simulation of the proposed Quantum network using (i) 4 features and to test the efficiency of the network (ii) 6 features. It was found the 4 features were giving better accuracy and loss values than the network using 6 features. The overall speed of the Quantum network was much faster than its classical counterparts.\n",
        "\n"
      ]
    },
    {
      "cell_type": "code",
      "metadata": {
        "id": "_vlECuRq_4hm"
      },
      "source": [
        "import numpy as np\n",
        "import pandas as pd\n",
        "from sklearn.model_selection import train_test_split"
      ],
      "execution_count": 6,
      "outputs": []
    },
    {
      "cell_type": "code",
      "metadata": {
        "colab": {
          "base_uri": "https://localhost:8080/",
          "height": 215
        },
        "id": "x4hC1JeX_4hr",
        "outputId": "3e374d3c-6a30-4015-b8f1-02b8eab6e5eb"
      },
      "source": [
        "dataset = pd.read_csv('/content/sample_data/exoplanets_2018.csv') \n",
        "#dataset = dataset.rename(columns=header_list)\n",
        "dataset.head()"
      ],
      "execution_count": 7,
      "outputs": [
        {
          "output_type": "execute_result",
          "data": {
            "text/html": [
              "<div>\n",
              "<style scoped>\n",
              "    .dataframe tbody tr th:only-of-type {\n",
              "        vertical-align: middle;\n",
              "    }\n",
              "\n",
              "    .dataframe tbody tr th {\n",
              "        vertical-align: top;\n",
              "    }\n",
              "\n",
              "    .dataframe thead th {\n",
              "        text-align: right;\n",
              "    }\n",
              "</style>\n",
              "<table border=\"1\" class=\"dataframe\">\n",
              "  <thead>\n",
              "    <tr style=\"text-align: right;\">\n",
              "      <th></th>\n",
              "      <th>kepid</th>\n",
              "      <th>kepoi_name</th>\n",
              "      <th>kepler_name</th>\n",
              "      <th>koi_disposition</th>\n",
              "      <th>koi_pdisposition</th>\n",
              "      <th>koi_score</th>\n",
              "      <th>koi_fpflag_nt</th>\n",
              "      <th>koi_fpflag_ss</th>\n",
              "      <th>koi_fpflag_co</th>\n",
              "      <th>koi_fpflag_ec</th>\n",
              "      <th>koi_period</th>\n",
              "      <th>koi_period_err1</th>\n",
              "      <th>koi_period_err2</th>\n",
              "      <th>koi_time0bk</th>\n",
              "      <th>koi_time0bk_err1</th>\n",
              "      <th>koi_time0bk_err2</th>\n",
              "      <th>koi_impact</th>\n",
              "      <th>koi_impact_err1</th>\n",
              "      <th>koi_impact_err2</th>\n",
              "      <th>koi_duration</th>\n",
              "      <th>koi_duration_err1</th>\n",
              "      <th>koi_duration_err2</th>\n",
              "      <th>koi_depth</th>\n",
              "      <th>koi_depth_err1</th>\n",
              "      <th>koi_depth_err2</th>\n",
              "      <th>koi_prad</th>\n",
              "      <th>koi_prad_err1</th>\n",
              "      <th>koi_prad_err2</th>\n",
              "      <th>koi_teq</th>\n",
              "      <th>koi_teq_err1</th>\n",
              "      <th>koi_teq_err2</th>\n",
              "      <th>koi_insol</th>\n",
              "      <th>koi_insol_err1</th>\n",
              "      <th>koi_insol_err2</th>\n",
              "      <th>koi_model_snr</th>\n",
              "      <th>koi_tce_plnt_num</th>\n",
              "      <th>koi_tce_delivname</th>\n",
              "      <th>koi_steff</th>\n",
              "      <th>koi_steff_err1</th>\n",
              "      <th>koi_steff_err2</th>\n",
              "      <th>koi_slogg</th>\n",
              "      <th>koi_slogg_err1</th>\n",
              "      <th>koi_slogg_err2</th>\n",
              "      <th>koi_srad</th>\n",
              "      <th>koi_srad_err1</th>\n",
              "      <th>koi_srad_err2</th>\n",
              "      <th>ra</th>\n",
              "      <th>dec</th>\n",
              "      <th>koi_kepmag</th>\n",
              "    </tr>\n",
              "  </thead>\n",
              "  <tbody>\n",
              "    <tr>\n",
              "      <th>0</th>\n",
              "      <td>10797460</td>\n",
              "      <td>K00752.01</td>\n",
              "      <td>Kepler-227 b</td>\n",
              "      <td>CONFIRMED</td>\n",
              "      <td>CANDIDATE</td>\n",
              "      <td>1.000</td>\n",
              "      <td>0</td>\n",
              "      <td>0</td>\n",
              "      <td>0</td>\n",
              "      <td>0</td>\n",
              "      <td>9.488036</td>\n",
              "      <td>2.780000e-05</td>\n",
              "      <td>-2.780000e-05</td>\n",
              "      <td>170.538750</td>\n",
              "      <td>0.002160</td>\n",
              "      <td>-0.002160</td>\n",
              "      <td>0.146</td>\n",
              "      <td>0.318</td>\n",
              "      <td>-0.146</td>\n",
              "      <td>2.95750</td>\n",
              "      <td>0.08190</td>\n",
              "      <td>-0.08190</td>\n",
              "      <td>616.0</td>\n",
              "      <td>19.5</td>\n",
              "      <td>-19.5</td>\n",
              "      <td>2.26</td>\n",
              "      <td>0.26</td>\n",
              "      <td>-0.15</td>\n",
              "      <td>793.0</td>\n",
              "      <td>NaN</td>\n",
              "      <td>NaN</td>\n",
              "      <td>93.59</td>\n",
              "      <td>29.45</td>\n",
              "      <td>-16.65</td>\n",
              "      <td>35.8</td>\n",
              "      <td>1.0</td>\n",
              "      <td>q1_q17_dr25_tce</td>\n",
              "      <td>5455.0</td>\n",
              "      <td>81.0</td>\n",
              "      <td>-81.0</td>\n",
              "      <td>4.467</td>\n",
              "      <td>0.064</td>\n",
              "      <td>-0.096</td>\n",
              "      <td>0.927</td>\n",
              "      <td>0.105</td>\n",
              "      <td>-0.061</td>\n",
              "      <td>291.93423</td>\n",
              "      <td>48.141651</td>\n",
              "      <td>15.347</td>\n",
              "    </tr>\n",
              "    <tr>\n",
              "      <th>1</th>\n",
              "      <td>10797460</td>\n",
              "      <td>K00752.02</td>\n",
              "      <td>Kepler-227 c</td>\n",
              "      <td>CONFIRMED</td>\n",
              "      <td>CANDIDATE</td>\n",
              "      <td>0.969</td>\n",
              "      <td>0</td>\n",
              "      <td>0</td>\n",
              "      <td>0</td>\n",
              "      <td>0</td>\n",
              "      <td>54.418383</td>\n",
              "      <td>2.480000e-04</td>\n",
              "      <td>-2.480000e-04</td>\n",
              "      <td>162.513840</td>\n",
              "      <td>0.003520</td>\n",
              "      <td>-0.003520</td>\n",
              "      <td>0.586</td>\n",
              "      <td>0.059</td>\n",
              "      <td>-0.443</td>\n",
              "      <td>4.50700</td>\n",
              "      <td>0.11600</td>\n",
              "      <td>-0.11600</td>\n",
              "      <td>875.0</td>\n",
              "      <td>35.5</td>\n",
              "      <td>-35.5</td>\n",
              "      <td>2.83</td>\n",
              "      <td>0.32</td>\n",
              "      <td>-0.19</td>\n",
              "      <td>443.0</td>\n",
              "      <td>NaN</td>\n",
              "      <td>NaN</td>\n",
              "      <td>9.11</td>\n",
              "      <td>2.87</td>\n",
              "      <td>-1.62</td>\n",
              "      <td>25.8</td>\n",
              "      <td>2.0</td>\n",
              "      <td>q1_q17_dr25_tce</td>\n",
              "      <td>5455.0</td>\n",
              "      <td>81.0</td>\n",
              "      <td>-81.0</td>\n",
              "      <td>4.467</td>\n",
              "      <td>0.064</td>\n",
              "      <td>-0.096</td>\n",
              "      <td>0.927</td>\n",
              "      <td>0.105</td>\n",
              "      <td>-0.061</td>\n",
              "      <td>291.93423</td>\n",
              "      <td>48.141651</td>\n",
              "      <td>15.347</td>\n",
              "    </tr>\n",
              "    <tr>\n",
              "      <th>2</th>\n",
              "      <td>10811496</td>\n",
              "      <td>K00753.01</td>\n",
              "      <td>NaN</td>\n",
              "      <td>CANDIDATE</td>\n",
              "      <td>CANDIDATE</td>\n",
              "      <td>0.000</td>\n",
              "      <td>0</td>\n",
              "      <td>0</td>\n",
              "      <td>0</td>\n",
              "      <td>0</td>\n",
              "      <td>19.899140</td>\n",
              "      <td>1.490000e-05</td>\n",
              "      <td>-1.490000e-05</td>\n",
              "      <td>175.850252</td>\n",
              "      <td>0.000581</td>\n",
              "      <td>-0.000581</td>\n",
              "      <td>0.969</td>\n",
              "      <td>5.126</td>\n",
              "      <td>-0.077</td>\n",
              "      <td>1.78220</td>\n",
              "      <td>0.03410</td>\n",
              "      <td>-0.03410</td>\n",
              "      <td>10800.0</td>\n",
              "      <td>171.0</td>\n",
              "      <td>-171.0</td>\n",
              "      <td>14.60</td>\n",
              "      <td>3.92</td>\n",
              "      <td>-1.31</td>\n",
              "      <td>638.0</td>\n",
              "      <td>NaN</td>\n",
              "      <td>NaN</td>\n",
              "      <td>39.30</td>\n",
              "      <td>31.04</td>\n",
              "      <td>-10.49</td>\n",
              "      <td>76.3</td>\n",
              "      <td>1.0</td>\n",
              "      <td>q1_q17_dr25_tce</td>\n",
              "      <td>5853.0</td>\n",
              "      <td>158.0</td>\n",
              "      <td>-176.0</td>\n",
              "      <td>4.544</td>\n",
              "      <td>0.044</td>\n",
              "      <td>-0.176</td>\n",
              "      <td>0.868</td>\n",
              "      <td>0.233</td>\n",
              "      <td>-0.078</td>\n",
              "      <td>297.00482</td>\n",
              "      <td>48.134129</td>\n",
              "      <td>15.436</td>\n",
              "    </tr>\n",
              "    <tr>\n",
              "      <th>3</th>\n",
              "      <td>10848459</td>\n",
              "      <td>K00754.01</td>\n",
              "      <td>NaN</td>\n",
              "      <td>FALSE POSITIVE</td>\n",
              "      <td>FALSE POSITIVE</td>\n",
              "      <td>0.000</td>\n",
              "      <td>0</td>\n",
              "      <td>1</td>\n",
              "      <td>0</td>\n",
              "      <td>0</td>\n",
              "      <td>1.736952</td>\n",
              "      <td>2.630000e-07</td>\n",
              "      <td>-2.630000e-07</td>\n",
              "      <td>170.307565</td>\n",
              "      <td>0.000115</td>\n",
              "      <td>-0.000115</td>\n",
              "      <td>1.276</td>\n",
              "      <td>0.115</td>\n",
              "      <td>-0.092</td>\n",
              "      <td>2.40641</td>\n",
              "      <td>0.00537</td>\n",
              "      <td>-0.00537</td>\n",
              "      <td>8080.0</td>\n",
              "      <td>12.8</td>\n",
              "      <td>-12.8</td>\n",
              "      <td>33.46</td>\n",
              "      <td>8.50</td>\n",
              "      <td>-2.83</td>\n",
              "      <td>1395.0</td>\n",
              "      <td>NaN</td>\n",
              "      <td>NaN</td>\n",
              "      <td>891.96</td>\n",
              "      <td>668.95</td>\n",
              "      <td>-230.35</td>\n",
              "      <td>505.6</td>\n",
              "      <td>1.0</td>\n",
              "      <td>q1_q17_dr25_tce</td>\n",
              "      <td>5805.0</td>\n",
              "      <td>157.0</td>\n",
              "      <td>-174.0</td>\n",
              "      <td>4.564</td>\n",
              "      <td>0.053</td>\n",
              "      <td>-0.168</td>\n",
              "      <td>0.791</td>\n",
              "      <td>0.201</td>\n",
              "      <td>-0.067</td>\n",
              "      <td>285.53461</td>\n",
              "      <td>48.285210</td>\n",
              "      <td>15.597</td>\n",
              "    </tr>\n",
              "    <tr>\n",
              "      <th>4</th>\n",
              "      <td>10854555</td>\n",
              "      <td>K00755.01</td>\n",
              "      <td>Kepler-664 b</td>\n",
              "      <td>CONFIRMED</td>\n",
              "      <td>CANDIDATE</td>\n",
              "      <td>1.000</td>\n",
              "      <td>0</td>\n",
              "      <td>0</td>\n",
              "      <td>0</td>\n",
              "      <td>0</td>\n",
              "      <td>2.525592</td>\n",
              "      <td>3.760000e-06</td>\n",
              "      <td>-3.760000e-06</td>\n",
              "      <td>171.595550</td>\n",
              "      <td>0.001130</td>\n",
              "      <td>-0.001130</td>\n",
              "      <td>0.701</td>\n",
              "      <td>0.235</td>\n",
              "      <td>-0.478</td>\n",
              "      <td>1.65450</td>\n",
              "      <td>0.04200</td>\n",
              "      <td>-0.04200</td>\n",
              "      <td>603.0</td>\n",
              "      <td>16.9</td>\n",
              "      <td>-16.9</td>\n",
              "      <td>2.75</td>\n",
              "      <td>0.88</td>\n",
              "      <td>-0.35</td>\n",
              "      <td>1406.0</td>\n",
              "      <td>NaN</td>\n",
              "      <td>NaN</td>\n",
              "      <td>926.16</td>\n",
              "      <td>874.33</td>\n",
              "      <td>-314.24</td>\n",
              "      <td>40.9</td>\n",
              "      <td>1.0</td>\n",
              "      <td>q1_q17_dr25_tce</td>\n",
              "      <td>6031.0</td>\n",
              "      <td>169.0</td>\n",
              "      <td>-211.0</td>\n",
              "      <td>4.438</td>\n",
              "      <td>0.070</td>\n",
              "      <td>-0.210</td>\n",
              "      <td>1.046</td>\n",
              "      <td>0.334</td>\n",
              "      <td>-0.133</td>\n",
              "      <td>288.75488</td>\n",
              "      <td>48.226200</td>\n",
              "      <td>15.509</td>\n",
              "    </tr>\n",
              "  </tbody>\n",
              "</table>\n",
              "</div>"
            ],
            "text/plain": [
              "      kepid kepoi_name   kepler_name  ...         ra        dec  koi_kepmag\n",
              "0  10797460  K00752.01  Kepler-227 b  ...  291.93423  48.141651      15.347\n",
              "1  10797460  K00752.02  Kepler-227 c  ...  291.93423  48.141651      15.347\n",
              "2  10811496  K00753.01           NaN  ...  297.00482  48.134129      15.436\n",
              "3  10848459  K00754.01           NaN  ...  285.53461  48.285210      15.597\n",
              "4  10854555  K00755.01  Kepler-664 b  ...  288.75488  48.226200      15.509\n",
              "\n",
              "[5 rows x 49 columns]"
            ]
          },
          "metadata": {
            "tags": []
          },
          "execution_count": 7
        }
      ]
    },
    {
      "cell_type": "code",
      "metadata": {
        "id": "RG46y94I_4hv"
      },
      "source": [
        "pd.set_option(\"display.max_columns\", None)"
      ],
      "execution_count": 8,
      "outputs": []
    },
    {
      "cell_type": "code",
      "metadata": {
        "id": "zptX-WgS_4hx"
      },
      "source": [
        "dataset=dataset[['koi_disposition','koi_fpflag_nt','koi_fpflag_ss','koi_fpflag_co','koi_fpflag_ec']]"
      ],
      "execution_count": 9,
      "outputs": []
    },
    {
      "cell_type": "code",
      "metadata": {
        "colab": {
          "base_uri": "https://localhost:8080/"
        },
        "id": "PPLMQuHx_4hy",
        "outputId": "b0c0d8b7-fef3-446c-cc7e-9d3fc02384db"
      },
      "source": [
        "for col in dataset.columns:\n",
        "    print(col)"
      ],
      "execution_count": 10,
      "outputs": [
        {
          "output_type": "stream",
          "text": [
            "koi_disposition\n",
            "koi_fpflag_nt\n",
            "koi_fpflag_ss\n",
            "koi_fpflag_co\n",
            "koi_fpflag_ec\n"
          ],
          "name": "stdout"
        }
      ]
    },
    {
      "cell_type": "code",
      "metadata": {
        "id": "8A_53nBl_4hz",
        "colab": {
          "base_uri": "https://localhost:8080/"
        },
        "outputId": "e60bdc29-1d62-4ead-a74b-36ae51f0cd42"
      },
      "source": [
        "dataset[\"koi_disposition\"].replace({\"CONFIRMED\": \"1\", \"CANDIDATE\": \"0\", \"FALSE POSITIVE\": \"0\"}, inplace=True)\n",
        "dataset.isnull().sum().sum()\n",
        "dataset=dataset.dropna()\n",
        "dataset[\"koi_disposition\"].value_counts()"
      ],
      "execution_count": 11,
      "outputs": [
        {
          "output_type": "execute_result",
          "data": {
            "text/plain": [
              "0    7207\n",
              "1    2357\n",
              "Name: koi_disposition, dtype: int64"
            ]
          },
          "metadata": {
            "tags": []
          },
          "execution_count": 11
        }
      ]
    },
    {
      "cell_type": "code",
      "metadata": {
        "colab": {
          "base_uri": "https://localhost:8080/",
          "height": 195
        },
        "id": "99qyLE1w_4h0",
        "outputId": "09215197-03d1-4cdb-9b78-8109f9e0af2f"
      },
      "source": [
        "dataset.head()"
      ],
      "execution_count": 12,
      "outputs": [
        {
          "output_type": "execute_result",
          "data": {
            "text/html": [
              "<div>\n",
              "<style scoped>\n",
              "    .dataframe tbody tr th:only-of-type {\n",
              "        vertical-align: middle;\n",
              "    }\n",
              "\n",
              "    .dataframe tbody tr th {\n",
              "        vertical-align: top;\n",
              "    }\n",
              "\n",
              "    .dataframe thead th {\n",
              "        text-align: right;\n",
              "    }\n",
              "</style>\n",
              "<table border=\"1\" class=\"dataframe\">\n",
              "  <thead>\n",
              "    <tr style=\"text-align: right;\">\n",
              "      <th></th>\n",
              "      <th>koi_disposition</th>\n",
              "      <th>koi_fpflag_nt</th>\n",
              "      <th>koi_fpflag_ss</th>\n",
              "      <th>koi_fpflag_co</th>\n",
              "      <th>koi_fpflag_ec</th>\n",
              "    </tr>\n",
              "  </thead>\n",
              "  <tbody>\n",
              "    <tr>\n",
              "      <th>0</th>\n",
              "      <td>1</td>\n",
              "      <td>0</td>\n",
              "      <td>0</td>\n",
              "      <td>0</td>\n",
              "      <td>0</td>\n",
              "    </tr>\n",
              "    <tr>\n",
              "      <th>1</th>\n",
              "      <td>1</td>\n",
              "      <td>0</td>\n",
              "      <td>0</td>\n",
              "      <td>0</td>\n",
              "      <td>0</td>\n",
              "    </tr>\n",
              "    <tr>\n",
              "      <th>2</th>\n",
              "      <td>0</td>\n",
              "      <td>0</td>\n",
              "      <td>0</td>\n",
              "      <td>0</td>\n",
              "      <td>0</td>\n",
              "    </tr>\n",
              "    <tr>\n",
              "      <th>3</th>\n",
              "      <td>0</td>\n",
              "      <td>0</td>\n",
              "      <td>1</td>\n",
              "      <td>0</td>\n",
              "      <td>0</td>\n",
              "    </tr>\n",
              "    <tr>\n",
              "      <th>4</th>\n",
              "      <td>1</td>\n",
              "      <td>0</td>\n",
              "      <td>0</td>\n",
              "      <td>0</td>\n",
              "      <td>0</td>\n",
              "    </tr>\n",
              "  </tbody>\n",
              "</table>\n",
              "</div>"
            ],
            "text/plain": [
              "  koi_disposition  koi_fpflag_nt  koi_fpflag_ss  koi_fpflag_co  koi_fpflag_ec\n",
              "0               1              0              0              0              0\n",
              "1               1              0              0              0              0\n",
              "2               0              0              0              0              0\n",
              "3               0              0              1              0              0\n",
              "4               1              0              0              0              0"
            ]
          },
          "metadata": {
            "tags": []
          },
          "execution_count": 12
        }
      ]
    },
    {
      "cell_type": "code",
      "metadata": {
        "colab": {
          "base_uri": "https://localhost:8080/"
        },
        "id": "ivSf2KaX_4h2",
        "outputId": "8b2f0dae-6797-4afa-9c15-0774e1d518f5"
      },
      "source": [
        "dataset = dataset.to_numpy()\n",
        "\n",
        "# Sepparating the label (Y) from the input features (X)\n",
        "Y = dataset[:, 0]\n",
        "Y = np.array(Y, dtype=int)\n",
        "X = dataset[:, 1:]\n",
        "\n",
        "# Sanity check\n",
        "print(X.shape, Y.shape)"
      ],
      "execution_count": 13,
      "outputs": [
        {
          "output_type": "stream",
          "text": [
            "(9564, 4) (9564,)\n"
          ],
          "name": "stdout"
        }
      ]
    },
    {
      "cell_type": "code",
      "metadata": {
        "id": "FhxV-lls_4h3",
        "cellView": "form"
      },
      "source": [
        "#@title Hidden\n",
        "# Separate data with label 0 and label 1\n",
        "\n",
        "x_0 = X[Y == 0, :]\n",
        "x_1 = X[Y == 1, :]\n",
        "y_0 = Y[Y==0]\n",
        "y_1 = Y[Y==1]\n",
        "\n",
        "# Sanity check\n",
        "print(x_0.shape, y_0.shape)\n",
        "print(x_1.shape, y_1.shape)"
      ],
      "execution_count": null,
      "outputs": []
    },
    {
      "cell_type": "code",
      "metadata": {
        "id": "CCLRDtvg_4h5",
        "colab": {
          "base_uri": "https://localhost:8080/"
        },
        "outputId": "da06ca03-922e-48fe-b076-ea97375f8b6b"
      },
      "source": [
        "# Split 70% of the data for training set and 30% for testing set\n",
        "\n",
        "X_train, X_test, Y_train, Y_test = train_test_split(X, Y, test_size=0.3, random_state=2001, shuffle=True, stratify=Y)\n",
        "# x_train_1, x_test_1, y_train_1, y_test_1 = train_test_split(x_1, y_1, test_size=0.3, random_state=2001,shuffle=True, stratify=Y)\n",
        "print(X_train.shape, Y_train.shape)\n",
        "print(X_test.shape, Y_test.shape)"
      ],
      "execution_count": 14,
      "outputs": [
        {
          "output_type": "stream",
          "text": [
            "(6694, 4) (6694,)\n",
            "(2870, 4) (2870,)\n"
          ],
          "name": "stdout"
        }
      ]
    },
    {
      "cell_type": "code",
      "metadata": {
        "id": "NAoYVInq_4h6",
        "cellView": "form"
      },
      "source": [
        "#@title Hidden\n",
        "num_sample = 1500 # sample per class, total = 5000\n",
        "\n",
        "# Take the first 5000 samples (1500 from each class) from training set for X_train and Y_train\n",
        "X_train = np.concatenate((x_train_0[:num_sample, :], x_train_1[:num_sample, :]), axis=0)\n",
        "Y_train = np.concatenate((y_train_0[:num_sample], y_train_1[:num_sample]), axis=0)\n",
        "\n",
        "# Take the first 5000 samples (1500 from each class) from testing set for X_test and Y_test\n",
        "X_test = np.concatenate((x_test_0[:num_sample, :], x_test_1[:num_sample, :]), axis=0)\n",
        "Y_test = np.concatenate((y_test_0[:num_sample], y_test_1[:num_sample]), axis=0)\n",
        "\n",
        "# Manual Check \n",
        "print(X_train.shape, Y_train.shape)\n",
        "print(X_test.shape, Y_test.shape)"
      ],
      "execution_count": null,
      "outputs": []
    },
    {
      "cell_type": "code",
      "metadata": {
        "id": "9deOUOq8_4h6"
      },
      "source": [
        "#Save extracted datasets on the disk\n",
        "#!mkdir 'KeplerDataset'\n",
        "\n",
        "np.savetxt('/content/sample_data/X_train_6694.txt', X_train)\n",
        "np.savetxt('/content/sample_data/X_test_2870.txt', X_test)\n",
        "np.savetxt('/content/sample_data/Y_train_6694.txt', Y_train)\n",
        "np.savetxt('/content/sample_data/Y_test_2870.txt', Y_test)"
      ],
      "execution_count": 15,
      "outputs": []
    },
    {
      "cell_type": "code",
      "metadata": {
        "id": "iYkuN1MK_4h7",
        "colab": {
          "base_uri": "https://localhost:8080/"
        },
        "cellView": "code",
        "outputId": "17dd9975-bde6-4aa5-91c9-0159b76fe43b"
      },
      "source": [
        "#@title Hidden\n",
        "# Code to load the saved subset\n",
        "\n",
        "\n",
        "X_train = np.loadtxt('/content/sample_data/X_train_6694.txt')\n",
        "Y_train = np.loadtxt('/content/sample_data/Y_train_6694.txt')\n",
        "\n",
        "X_test = np.loadtxt('/content/sample_data/X_test_2870.txt')\n",
        "Y_test = np.loadtxt('/content/sample_data/Y_test_2870.txt')\n",
        "\n",
        "# Check\n",
        "print(X_train.shape, Y_train.shape)\n",
        "print(X_test.shape, Y_test.shape)"
      ],
      "execution_count": 16,
      "outputs": [
        {
          "output_type": "stream",
          "text": [
            "(6694, 4) (6694,)\n",
            "(2870, 4) (2870,)\n"
          ],
          "name": "stdout"
        }
      ]
    },
    {
      "cell_type": "code",
      "metadata": {
        "id": "9ICKFYk4_4h7",
        "colab": {
          "base_uri": "https://localhost:8080/"
        },
        "outputId": "e503d369-8252-4a1e-ac8b-42f17a1c217c"
      },
      "source": [
        "#Training the Quantum Circuit in Simulator\n",
        "!pip install pennylane\n",
        "import pennylane as qml\n",
        "from pennylane import numpy as np\n",
        "from pennylane.optimize import AdamOptimizer\n",
        "\n",
        "import tensorflow as tf\n",
        "from tensorflow.keras.utils import to_categorical\n"
      ],
      "execution_count": 19,
      "outputs": [
        {
          "output_type": "stream",
          "text": [
            "Collecting pennylane\n",
            "\u001b[?25l  Downloading https://files.pythonhosted.org/packages/6b/e3/be051bad48308df6bae15b5447be22cb814a06098afbd8eb507d20196025/PennyLane-0.15.1-py3-none-any.whl (455kB)\n",
            "\r\u001b[K     |▊                               | 10kB 16.3MB/s eta 0:00:01\r\u001b[K     |█▍                              | 20kB 21.0MB/s eta 0:00:01\r\u001b[K     |██▏                             | 30kB 10.5MB/s eta 0:00:01\r\u001b[K     |██▉                             | 40kB 8.3MB/s eta 0:00:01\r\u001b[K     |███▋                            | 51kB 5.6MB/s eta 0:00:01\r\u001b[K     |████▎                           | 61kB 6.5MB/s eta 0:00:01\r\u001b[K     |█████                           | 71kB 6.5MB/s eta 0:00:01\r\u001b[K     |█████▊                          | 81kB 6.2MB/s eta 0:00:01\r\u001b[K     |██████▌                         | 92kB 6.1MB/s eta 0:00:01\r\u001b[K     |███████▏                        | 102kB 6.6MB/s eta 0:00:01\r\u001b[K     |████████                        | 112kB 6.6MB/s eta 0:00:01\r\u001b[K     |████████▋                       | 122kB 6.6MB/s eta 0:00:01\r\u001b[K     |█████████▍                      | 133kB 6.6MB/s eta 0:00:01\r\u001b[K     |██████████                      | 143kB 6.6MB/s eta 0:00:01\r\u001b[K     |██████████▉                     | 153kB 6.6MB/s eta 0:00:01\r\u001b[K     |███████████▌                    | 163kB 6.6MB/s eta 0:00:01\r\u001b[K     |████████████▏                   | 174kB 6.6MB/s eta 0:00:01\r\u001b[K     |█████████████                   | 184kB 6.6MB/s eta 0:00:01\r\u001b[K     |█████████████▋                  | 194kB 6.6MB/s eta 0:00:01\r\u001b[K     |██████████████▍                 | 204kB 6.6MB/s eta 0:00:01\r\u001b[K     |███████████████                 | 215kB 6.6MB/s eta 0:00:01\r\u001b[K     |███████████████▉                | 225kB 6.6MB/s eta 0:00:01\r\u001b[K     |████████████████▌               | 235kB 6.6MB/s eta 0:00:01\r\u001b[K     |█████████████████▎              | 245kB 6.6MB/s eta 0:00:01\r\u001b[K     |██████████████████              | 256kB 6.6MB/s eta 0:00:01\r\u001b[K     |██████████████████▊             | 266kB 6.6MB/s eta 0:00:01\r\u001b[K     |███████████████████▍            | 276kB 6.6MB/s eta 0:00:01\r\u001b[K     |████████████████████▏           | 286kB 6.6MB/s eta 0:00:01\r\u001b[K     |████████████████████▉           | 296kB 6.6MB/s eta 0:00:01\r\u001b[K     |█████████████████████▋          | 307kB 6.6MB/s eta 0:00:01\r\u001b[K     |██████████████████████▎         | 317kB 6.6MB/s eta 0:00:01\r\u001b[K     |███████████████████████         | 327kB 6.6MB/s eta 0:00:01\r\u001b[K     |███████████████████████▊        | 337kB 6.6MB/s eta 0:00:01\r\u001b[K     |████████████████████████▍       | 348kB 6.6MB/s eta 0:00:01\r\u001b[K     |█████████████████████████▏      | 358kB 6.6MB/s eta 0:00:01\r\u001b[K     |█████████████████████████▉      | 368kB 6.6MB/s eta 0:00:01\r\u001b[K     |██████████████████████████▋     | 378kB 6.6MB/s eta 0:00:01\r\u001b[K     |███████████████████████████▎    | 389kB 6.6MB/s eta 0:00:01\r\u001b[K     |████████████████████████████    | 399kB 6.6MB/s eta 0:00:01\r\u001b[K     |████████████████████████████▊   | 409kB 6.6MB/s eta 0:00:01\r\u001b[K     |█████████████████████████████▌  | 419kB 6.6MB/s eta 0:00:01\r\u001b[K     |██████████████████████████████▏ | 430kB 6.6MB/s eta 0:00:01\r\u001b[K     |███████████████████████████████ | 440kB 6.6MB/s eta 0:00:01\r\u001b[K     |███████████████████████████████▋| 450kB 6.6MB/s eta 0:00:01\r\u001b[K     |████████████████████████████████| 460kB 6.6MB/s \n",
            "\u001b[?25hRequirement already satisfied: scipy in /usr/local/lib/python3.7/dist-packages (from pennylane) (1.4.1)\n",
            "Requirement already satisfied: appdirs in /usr/local/lib/python3.7/dist-packages (from pennylane) (1.4.4)\n",
            "Requirement already satisfied: autograd in /usr/local/lib/python3.7/dist-packages (from pennylane) (1.3)\n",
            "Requirement already satisfied: numpy in /usr/local/lib/python3.7/dist-packages (from pennylane) (1.19.5)\n",
            "Requirement already satisfied: toml in /usr/local/lib/python3.7/dist-packages (from pennylane) (0.10.2)\n",
            "Collecting semantic-version==2.6\n",
            "  Downloading https://files.pythonhosted.org/packages/28/be/3a7241d731ba89063780279a5433f5971c1cf41735b64a9f874b7c3ff995/semantic_version-2.6.0-py3-none-any.whl\n",
            "Requirement already satisfied: networkx in /usr/local/lib/python3.7/dist-packages (from pennylane) (2.5.1)\n",
            "Requirement already satisfied: future>=0.15.2 in /usr/local/lib/python3.7/dist-packages (from autograd->pennylane) (0.16.0)\n",
            "Requirement already satisfied: decorator<5,>=4.3 in /usr/local/lib/python3.7/dist-packages (from networkx->pennylane) (4.4.2)\n",
            "Installing collected packages: semantic-version, pennylane\n",
            "Successfully installed pennylane-0.15.1 semantic-version-2.6.0\n"
          ],
          "name": "stdout"
        }
      ]
    },
    {
      "cell_type": "code",
      "metadata": {
        "id": "3N5YVrYeKeHP"
      },
      "source": [
        "# Set a random seed\n",
        "np.random.seed(42)"
      ],
      "execution_count": 20,
      "outputs": []
    },
    {
      "cell_type": "code",
      "metadata": {
        "id": "zgGsQMKo_4h8"
      },
      "source": [
        "# Define output labels as quantum state vectors\n",
        "label_0 = [[1], [0]]\n",
        "label_1 = [[0], [1]]\n",
        "\n",
        "\n",
        "def density_matrix(state):\n",
        "    \"\"\"Calculates the density matrix representation of a state.\n",
        "\n",
        "    Args:\n",
        "        state (array[complex]): array representing a quantum state vector\n",
        "\n",
        "    Returns:\n",
        "        dm: (array[complex]): array representing the density matrix\n",
        "    \"\"\"\n",
        "    return np.outer(state,  np.conj(state))\n",
        "\n",
        "state_labels = [label_0, label_1]\n",
        "dm_labels = [density_matrix(state_labels[i]) for i in range(2)]"
      ],
      "execution_count": 21,
      "outputs": []
    },
    {
      "cell_type": "code",
      "metadata": {
        "id": "aaqPRUy3_4h8"
      },
      "source": [
        "from keras import backend as K\n",
        "\n",
        "\n",
        "# Alpha Custom Layer\n",
        "class class_weights(tf.keras.layers.Layer):\n",
        "    def __init__(self):\n",
        "        super(class_weights, self).__init__()\n",
        "        w_init = tf.random_normal_initializer()\n",
        "        self.w = tf.Variable(\n",
        "            initial_value=w_init(shape=(1, 2), dtype=\"float32\"),\n",
        "            trainable=True,\n",
        "        )\n",
        "\n",
        "    def call(self, inputs):\n",
        "        return (inputs * self.w)"
      ],
      "execution_count": 22,
      "outputs": []
    },
    {
      "cell_type": "code",
      "metadata": {
        "id": "-carE_ToZcs8"
      },
      "source": [
        "from keras import backend as K\n",
        "\n",
        "\n",
        "# Alpha Custom Layer\n",
        "class class_weights(tf.keras.layers.Layer):\n",
        "    def __init__(self):\n",
        "        super(class_weights, self).__init__()\n",
        "        w_init = tf.random_normal_initializer()\n",
        "        self.w = tf.Variable(\n",
        "            initial_value=w_init(shape=(1, 2), dtype=\"float32\"),\n",
        "            trainable=True,\n",
        "        )\n",
        "\n",
        "    def call(self, inputs):\n",
        "        return (inputs * self.w)"
      ],
      "execution_count": 23,
      "outputs": []
    },
    {
      "cell_type": "code",
      "metadata": {
        "colab": {
          "base_uri": "https://localhost:8080/"
        },
        "id": "mUBE653l0Yjm",
        "outputId": "674d2a50-5a5f-4f17-a6b5-9d849613c21a"
      },
      "source": [
        "num_fc_layer = 5 # number of layer\n",
        "params_fix = np.random.uniform(size=(2, num_fc_layer, 4))\n",
        "print(params_fix)"
      ],
      "execution_count": 24,
      "outputs": [
        {
          "output_type": "stream",
          "text": [
            "[[[0.37454012 0.95071431 0.73199394 0.59865848]\n",
            "  [0.15601864 0.15599452 0.05808361 0.86617615]\n",
            "  [0.60111501 0.70807258 0.02058449 0.96990985]\n",
            "  [0.83244264 0.21233911 0.18182497 0.18340451]\n",
            "  [0.30424224 0.52475643 0.43194502 0.29122914]]\n",
            "\n",
            " [[0.61185289 0.13949386 0.29214465 0.36636184]\n",
            "  [0.45606998 0.78517596 0.19967378 0.51423444]\n",
            "  [0.59241457 0.04645041 0.60754485 0.17052412]\n",
            "  [0.06505159 0.94888554 0.96563203 0.80839735]\n",
            "  [0.30461377 0.09767211 0.68423303 0.44015249]]]\n"
          ],
          "name": "stdout"
        }
      ]
    },
    {
      "cell_type": "code",
      "metadata": {
        "id": "X3Ln2XAj0Yyq"
      },
      "source": [
        "n_qubits = 2  # number of class\n",
        "dev_fc = qml.device(\"default.qubit\", wires=n_qubits)\n",
        "layer_id = 0 # the layer index to be trained, it starts from zero because of Numpy convention\n",
        "\n",
        "@qml.qnode(dev_fc)\n",
        "def q_fc(params, inputs):\n",
        "    \"\"\"A variational quantum circuit representing the DRC.\n",
        "\n",
        "    Args:\n",
        "        params (array[float]): array of parameters\n",
        "        inputs (array[float]): 1-d input vector (data sample)\n",
        "\n",
        "    Returns:\n",
        "        array[float]: 1-d output vector in the form of [alpha0*<O0>, alpha1*<O1>]\n",
        "    \"\"\"\n",
        "    \n",
        "    # layer iteration\n",
        "    for l in range(len(params_fix[0])):\n",
        "        # qubit iteration\n",
        "        for q in range(n_qubits):\n",
        "            # gate iteration\n",
        "            for g in range(int(len(inputs)/3)):\n",
        "              if l == layer_id: # train only the specified layer\n",
        "                qml.Rot(*(params[0][3*g:3*(g+1)] * inputs[3*g:3*(g+1)] + params[1][3*g:3*(g+1)]), wires=q)\n",
        "              else:\n",
        "                qml.Rot(*(params_fix[0][l][3*g:3*(g+1)] * inputs[3*g:3*(g+1)] + params_fix[1][l][3*g:3*(g+1)]), wires=q)\n",
        "    \n",
        "    return [qml.expval(qml.Hermitian(dm_labels[i], wires=[i])) for i in range(n_qubits)]"
      ],
      "execution_count": 25,
      "outputs": []
    },
    {
      "cell_type": "code",
      "metadata": {
        "id": "1dpf-rjN0hyf"
      },
      "source": [
        "n_component = 4 # number of features used\n",
        "\n",
        "X = tf.keras.Input(shape=(n_component,), name='Input_Layer')\n",
        "\n",
        "\n",
        "# Quantum Layer\n",
        "q_fc_layer = qml.qnn.KerasLayer(q_fc, {\"params\": (2, n_component)}, output_dim=2)(X)\n",
        "\n",
        "# Alpha Layer\n",
        "alpha_layer = class_weights()(q_fc_layer)\n",
        "\n",
        "model = tf.keras.Model(inputs=X, outputs=alpha_layer)"
      ],
      "execution_count": 26,
      "outputs": []
    },
    {
      "cell_type": "code",
      "metadata": {
        "id": "1RB5piW-0h8R"
      },
      "source": [
        "opt = tf.keras.optimizers.Adam(learning_rate=0.05)\n",
        "model.compile(opt, loss='mse', metrics=[\"accuracy\"])"
      ],
      "execution_count": 45,
      "outputs": []
    },
    {
      "cell_type": "code",
      "metadata": {
        "id": "uPGrIIv60iIB"
      },
      "source": [
        "filepath = \"/content/sample_data/Best4_layer5(layer_id=0)_set1000_8epoch_saved-model-{epoch:02d}.hdf5\"\n",
        "checkpoint = tf.keras.callbacks.ModelCheckpoint(filepath, monitor='val_acc', verbose=1,\n",
        "                                                save_weights_only=True, save_best_only=False, mode='auto')"
      ],
      "execution_count": 46,
      "outputs": []
    },
    {
      "cell_type": "code",
      "metadata": {
        "colab": {
          "base_uri": "https://localhost:8080/"
        },
        "id": "vU8-Kr6V050y",
        "outputId": "386d10bb-7e4a-4510-8b7f-4ffcdbd7ee82"
      },
      "source": [
        "H = model.fit(X_train, to_categorical(Y_train), epochs=3, batch_size=256, initial_epoch=0,\n",
        "              validation_data=(X_test, to_categorical(Y_test)), verbose=1,\n",
        "              callbacks=[checkpoint])"
      ],
      "execution_count": 47,
      "outputs": [
        {
          "output_type": "stream",
          "text": [
            "Epoch 1/3\n",
            "27/27 [==============================] - 532s 20s/step - loss: 0.2508 - accuracy: 0.7504 - val_loss: 0.1404 - val_accuracy: 0.7537\n",
            "\n",
            "Epoch 00001: saving model to /content/sample_data/Best4_layer5(layer_id=0)_set1000_8epoch_saved-model-01.hdf5\n",
            "Epoch 2/3\n",
            "27/27 [==============================] - 502s 19s/step - loss: 0.1390 - accuracy: 0.7535 - val_loss: 0.1328 - val_accuracy: 0.7537\n",
            "\n",
            "Epoch 00002: saving model to /content/sample_data/Best4_layer5(layer_id=0)_set1000_8epoch_saved-model-02.hdf5\n",
            "Epoch 3/3\n",
            "27/27 [==============================] - 537s 20s/step - loss: 0.1336 - accuracy: 0.7535 - val_loss: 0.1320 - val_accuracy: 0.7537\n",
            "\n",
            "Epoch 00003: saving model to /content/sample_data/Best4_layer5(layer_id=0)_set1000_8epoch_saved-model-03.hdf5\n"
          ],
          "name": "stdout"
        }
      ]
    },
    {
      "cell_type": "code",
      "metadata": {
        "colab": {
          "base_uri": "https://localhost:8080/"
        },
        "id": "vM8ixM-aJmxz",
        "outputId": "26e9bc6b-eb3d-4d4b-c96b-93319fee580b"
      },
      "source": [
        "!pwd\n",
        "!rm -rf /content/sample_data/Best*"
      ],
      "execution_count": 43,
      "outputs": [
        {
          "output_type": "stream",
          "text": [
            "/content\n"
          ],
          "name": "stdout"
        }
      ]
    },
    {
      "cell_type": "code",
      "metadata": {
        "id": "yBjtr3Gt06BF"
      },
      "source": [
        "model.load_weights('/content/sample_data/Best4_layer5(layer_id=0)_set1000_8epoch_saved-model-03.hdf5')\n",
        "#\"/content/sample_data/Best4_layer5(layer_id=0)_set1000_8epoch_saved-model-{epoch:02d}.hdf5\"\n",
        "\n",
        "# keep that parameters and replace the initial one\n",
        "params_layer_0 = model.get_weights()[0]\n",
        "params_fix[:, 0, :] = params_layer_0"
      ],
      "execution_count": 48,
      "outputs": []
    },
    {
      "cell_type": "markdown",
      "metadata": {
        "id": "S8D2OrBLJJvI"
      },
      "source": [
        "**2nd Layer**"
      ]
    },
    {
      "cell_type": "code",
      "metadata": {
        "id": "PRMuEmwjI78q"
      },
      "source": [
        "n_qubits = 2  # number of class\n",
        "dev_fc = qml.device(\"default.qubit\", wires=n_qubits)\n",
        "layer_id = 1 # the layer index to be trained, it starts from zero because of Numpy convention\n",
        "\n",
        "@qml.qnode(dev_fc)\n",
        "def q_fc(params, inputs):\n",
        "    \"\"\"A variational quantum circuit representing the DRC.\n",
        "\n",
        "    Args:\n",
        "        params (array[float]): array of parameters\n",
        "        inputs (array[float]): 1-d input vector (data sample)\n",
        "\n",
        "    Returns:\n",
        "        array[float]: 1-d output vector in the form of [alpha0*<O0>, alpha1*<O1>]\n",
        "    \"\"\"\n",
        "    \n",
        "    # layer iteration\n",
        "    for l in range(len(params_fix[0])):\n",
        "        # qubit iteration\n",
        "        for q in range(n_qubits):\n",
        "            # gate iteration\n",
        "            for g in range(int(len(inputs)/3)):\n",
        "              if l == layer_id: # train only the specified layer\n",
        "                qml.Rot(*(params[0][3*g:3*(g+1)] * inputs[3*g:3*(g+1)] + params[1][3*g:3*(g+1)]), wires=q)\n",
        "              else:\n",
        "                qml.Rot(*(params_fix[0][l][3*g:3*(g+1)] * inputs[3*g:3*(g+1)] + params_fix[1][l][3*g:3*(g+1)]), wires=q)\n",
        "    \n",
        "    return [qml.expval(qml.Hermitian(dm_labels[i], wires=[i])) for i in range(n_qubits)]"
      ],
      "execution_count": 49,
      "outputs": []
    },
    {
      "cell_type": "code",
      "metadata": {
        "id": "Jcl4-trtJdrq"
      },
      "source": [
        "n_component = 4 # number of features used\n",
        "\n",
        "X = tf.keras.Input(shape=(n_component,), name='Input_Layer')\n",
        "\n",
        "\n",
        "# Quantum Layer\n",
        "q_fc_layer = qml.qnn.KerasLayer(q_fc, {\"params\": (2, n_component)}, output_dim=2)(X)\n",
        "\n",
        "# Alpha Layer\n",
        "alpha_layer = class_weights()(q_fc_layer)\n",
        "\n",
        "model = tf.keras.Model(inputs=X, outputs=alpha_layer)"
      ],
      "execution_count": 50,
      "outputs": []
    },
    {
      "cell_type": "code",
      "metadata": {
        "id": "NIEhpBJaJd3U"
      },
      "source": [
        "opt = tf.keras.optimizers.Adam(learning_rate=0.05)\n",
        "model.compile(opt, loss='mse', metrics=[\"accuracy\"])"
      ],
      "execution_count": 51,
      "outputs": []
    },
    {
      "cell_type": "code",
      "metadata": {
        "id": "1rj2LIT-Jd6o"
      },
      "source": [
        "# Note: please put the correct directory to save the weights accordingly if you want to run the code\n",
        "filepath = \"/content/sample_data/Best4_layer5(layer_id=1)_set1000_8epoch_saved-model-{epoch:02d}.hdf5\"\n",
        "\n",
        "checkpoint = tf.keras.callbacks.ModelCheckpoint(filepath, monitor='val_acc', verbose=1,\n",
        "                                                save_weights_only=True, save_best_only=False, mode='auto')"
      ],
      "execution_count": 53,
      "outputs": []
    },
    {
      "cell_type": "code",
      "metadata": {
        "id": "4sDPQDQqJd-a",
        "colab": {
          "base_uri": "https://localhost:8080/"
        },
        "outputId": "75ff14be-1550-4756-ba61-9c590fc801c1"
      },
      "source": [
        "H = model.fit(X_train, to_categorical(Y_train), epochs=3, batch_size=256, initial_epoch=0,\n",
        "              validation_data=(X_test, to_categorical(Y_test)), verbose=1,\n",
        "              callbacks=[checkpoint])"
      ],
      "execution_count": 54,
      "outputs": [
        {
          "output_type": "stream",
          "text": [
            "Epoch 1/3\n",
            "27/27 [==============================] - 539s 20s/step - loss: 0.2354 - accuracy: 0.7535 - val_loss: 0.1453 - val_accuracy: 0.7537\n",
            "\n",
            "Epoch 00001: saving model to /content/sample_data/Best4_layer5(layer_id=1)_set1000_8epoch_saved-model-01.hdf5\n",
            "Epoch 2/3\n",
            "27/27 [==============================] - 534s 20s/step - loss: 0.1423 - accuracy: 0.7535 - val_loss: 0.1387 - val_accuracy: 0.7540\n",
            "\n",
            "Epoch 00002: saving model to /content/sample_data/Best4_layer5(layer_id=1)_set1000_8epoch_saved-model-02.hdf5\n",
            "Epoch 3/3\n",
            "27/27 [==============================] - 531s 20s/step - loss: 0.1393 - accuracy: 0.7535 - val_loss: 0.1389 - val_accuracy: 0.7537\n",
            "\n",
            "Epoch 00003: saving model to /content/sample_data/Best4_layer5(layer_id=1)_set1000_8epoch_saved-model-03.hdf5\n"
          ],
          "name": "stdout"
        }
      ]
    },
    {
      "cell_type": "code",
      "metadata": {
        "id": "BnpMQPejJeB9"
      },
      "source": [
        "# load the parameters that is considered giving the best balance between train and test accuracy\n",
        "#model.load_weights('./Model/Best6_layer5(layer_id=1)_set5000_10epoch_saved-model-08.hdf5')\n",
        "model.load_weights('/content/sample_data/Best4_layer5(layer_id=1)_set1000_8epoch_saved-model-03.hdf5')\n",
        "\n",
        "\n",
        "# keep that parameters and replace the initial one\n",
        "params_layer_1 = model.get_weights()[0]\n",
        "params_fix[:, 1, :] = params_layer_1"
      ],
      "execution_count": 55,
      "outputs": []
    },
    {
      "cell_type": "markdown",
      "metadata": {
        "id": "3IfcAMhiJr8n"
      },
      "source": [
        "**3rd Layer**"
      ]
    },
    {
      "cell_type": "code",
      "metadata": {
        "id": "zkiS9SqUJeJR"
      },
      "source": [
        "n_qubits = 2  # number of class\n",
        "dev_fc = qml.device(\"default.qubit\", wires=n_qubits)\n",
        "layer_id = 2 # the layer index to be trained, it starts from zero because of Numpy convention\n",
        "\n",
        "@qml.qnode(dev_fc)\n",
        "def q_fc(params, inputs):\n",
        "    \"\"\"A variational quantum circuit representing the DRC.\n",
        "\n",
        "    Args:\n",
        "        params (array[float]): array of parameters\n",
        "        inputs (array[float]): 1-d input vector (data sample)\n",
        "\n",
        "    Returns:\n",
        "        array[float]: 1-d output vector in the form of [alpha0*<O0>, alpha1*<O1>]\n",
        "    \"\"\"\n",
        "    \n",
        "    # layer iteration\n",
        "    for l in range(len(params_fix[0])):\n",
        "        # qubit iteration\n",
        "        for q in range(n_qubits):\n",
        "            # gate iteration\n",
        "            for g in range(int(len(inputs)/3)):\n",
        "              if l == layer_id: # train only the specified layer\n",
        "                qml.Rot(*(params[0][3*g:3*(g+1)] * inputs[3*g:3*(g+1)] + params[1][3*g:3*(g+1)]), wires=q)\n",
        "              else:\n",
        "                qml.Rot(*(params_fix[0][l][3*g:3*(g+1)] * inputs[3*g:3*(g+1)] + params_fix[1][l][3*g:3*(g+1)]), wires=q)\n",
        "    \n",
        "    return [qml.expval(qml.Hermitian(dm_labels[i], wires=[i])) for i in range(n_qubits)]"
      ],
      "execution_count": 56,
      "outputs": []
    },
    {
      "cell_type": "code",
      "metadata": {
        "id": "1C8tPRqtJeMD"
      },
      "source": [
        "n_component = 4 # number of features used\n",
        "\n",
        "X = tf.keras.Input(shape=(n_component,), name='Input_Layer')\n",
        "\n",
        "\n",
        "# Quantum Layer\n",
        "q_fc_layer = qml.qnn.KerasLayer(q_fc, {\"params\": (2, n_component)}, output_dim=2)(X)\n",
        "\n",
        "# Alpha Layer\n",
        "alpha_layer = class_weights()(q_fc_layer)\n",
        "\n",
        "model = tf.keras.Model(inputs=X, outputs=alpha_layer)"
      ],
      "execution_count": 57,
      "outputs": []
    },
    {
      "cell_type": "code",
      "metadata": {
        "id": "T32BcvXgJePB"
      },
      "source": [
        "opt = tf.keras.optimizers.Adam(learning_rate=0.05)\n",
        "model.compile(opt, loss='mse', metrics=[\"accuracy\"])"
      ],
      "execution_count": 58,
      "outputs": []
    },
    {
      "cell_type": "code",
      "metadata": {
        "id": "xjeKolFYJeSJ"
      },
      "source": [
        "# Note: please put the correct directory to save the weights accordingly if you want to run the code\n",
        "#filepath = \"./Model/Best6_layer5(layer_id=2)_set5000_10epoch_saved-model-{epoch:02d}.hdf5\"\n",
        "filepath = \"/content/sample_data/Best4_layer5(layer_id=2)_set1000_8epoch_saved-model-{epoch:02d}.hdf5\"\n",
        "\n",
        "checkpoint = tf.keras.callbacks.ModelCheckpoint(filepath, monitor='val_acc', verbose=1,\n",
        "                                                save_weights_only=True, save_best_only=False, mode='auto')"
      ],
      "execution_count": 59,
      "outputs": []
    },
    {
      "cell_type": "code",
      "metadata": {
        "id": "SAm0dk1gJeVL",
        "colab": {
          "base_uri": "https://localhost:8080/"
        },
        "outputId": "a7dcb13a-57c4-4b96-b246-68925a0ebd77"
      },
      "source": [
        "H = model.fit(X_train, to_categorical(Y_train), epochs=3, batch_size=256, initial_epoch=0,\n",
        "              validation_data=(X_test, to_categorical(Y_test)), verbose=1,\n",
        "              callbacks=[checkpoint])"
      ],
      "execution_count": 60,
      "outputs": [
        {
          "output_type": "stream",
          "text": [
            "Epoch 1/3\n",
            "27/27 [==============================] - 524s 20s/step - loss: 0.2575 - accuracy: 0.7305 - val_loss: 0.1419 - val_accuracy: 0.7537\n",
            "\n",
            "Epoch 00001: saving model to /content/sample_data/Best4_layer5(layer_id=2)_set1000_8epoch_saved-model-01.hdf5\n",
            "Epoch 2/3\n",
            "27/27 [==============================] - 493s 18s/step - loss: 0.1411 - accuracy: 0.7523 - val_loss: 0.1349 - val_accuracy: 0.7540\n",
            "\n",
            "Epoch 00002: saving model to /content/sample_data/Best4_layer5(layer_id=2)_set1000_8epoch_saved-model-02.hdf5\n",
            "Epoch 3/3\n",
            "27/27 [==============================] - 493s 18s/step - loss: 0.1353 - accuracy: 0.7535 - val_loss: 0.1333 - val_accuracy: 0.7540\n",
            "\n",
            "Epoch 00003: saving model to /content/sample_data/Best4_layer5(layer_id=2)_set1000_8epoch_saved-model-03.hdf5\n"
          ],
          "name": "stdout"
        }
      ]
    },
    {
      "cell_type": "code",
      "metadata": {
        "id": "w2zUR-P6JeYj"
      },
      "source": [
        "# load the parameters that is considered giving the best balance between train and test accuracy\n",
        "#model.load_weights('./Model/Best6_layer5(layer_id=2)_set5000_10epoch_saved-model-08.hdf5')\n",
        "model.load_weights('/content/sample_data/Best4_layer5(layer_id=2)_set1000_8epoch_saved-model-03.hdf5')\n",
        "\n",
        "\n",
        "# keep that parameters and replace the initial one\n",
        "params_layer_2 = model.get_weights()[0]\n",
        "params_fix[:, 2, :] = params_layer_2"
      ],
      "execution_count": 61,
      "outputs": []
    },
    {
      "cell_type": "markdown",
      "metadata": {
        "id": "X_RxcJ8rJ-8g"
      },
      "source": [
        "**4th Layer**"
      ]
    },
    {
      "cell_type": "code",
      "metadata": {
        "id": "QjH0FSD-Jeb0"
      },
      "source": [
        "n_qubits = 2  # number of class\n",
        "dev_fc = qml.device(\"default.qubit\", wires=n_qubits)\n",
        "layer_id = 3 # the layer index to be trained, it starts from zero because of Numpy convention\n",
        "\n",
        "@qml.qnode(dev_fc)\n",
        "def q_fc(params, inputs):\n",
        "    \"\"\"A variational quantum circuit representing the DRC.\n",
        "\n",
        "    Args:\n",
        "        params (array[float]): array of parameters\n",
        "        inputs (array[float]): 1-d input vector (data sample)\n",
        "\n",
        "    Returns:\n",
        "        array[float]: 1-d output vector in the form of [alpha0*<O0>, alpha1*<O1>]\n",
        "    \"\"\"\n",
        "    \n",
        "    # layer iteration\n",
        "    for l in range(len(params_fix[0])):\n",
        "        # qubit iteration\n",
        "        for q in range(n_qubits):\n",
        "            # gate iteration\n",
        "            for g in range(int(len(inputs)/3)):\n",
        "              if l == layer_id: # train only the specified layer\n",
        "                qml.Rot(*(params[0][3*g:3*(g+1)] * inputs[3*g:3*(g+1)] + params[1][3*g:3*(g+1)]), wires=q)\n",
        "              else:\n",
        "                qml.Rot(*(params_fix[0][l][3*g:3*(g+1)] * inputs[3*g:3*(g+1)] + params_fix[1][l][3*g:3*(g+1)]), wires=q)\n",
        "    \n",
        "    return [qml.expval(qml.Hermitian(dm_labels[i], wires=[i])) for i in range(n_qubits)]"
      ],
      "execution_count": 62,
      "outputs": []
    },
    {
      "cell_type": "code",
      "metadata": {
        "id": "Y0mlC1teKGdK"
      },
      "source": [
        "n_component = 4 # number of features used\n",
        "\n",
        "X = tf.keras.Input(shape=(n_component,), name='Input_Layer')\n",
        "\n",
        "\n",
        "# Quantum Layer\n",
        "q_fc_layer = qml.qnn.KerasLayer(q_fc, {\"params\": (2, n_component)}, output_dim=2)(X)\n",
        "\n",
        "# Alpha Layer\n",
        "alpha_layer = class_weights()(q_fc_layer)\n",
        "\n",
        "model = tf.keras.Model(inputs=X, outputs=alpha_layer)"
      ],
      "execution_count": 63,
      "outputs": []
    },
    {
      "cell_type": "code",
      "metadata": {
        "id": "InoTB0x2KGpD"
      },
      "source": [
        "opt = tf.keras.optimizers.Adam(learning_rate=0.05)\n",
        "model.compile(opt, loss='mse', metrics=[\"accuracy\"])"
      ],
      "execution_count": 64,
      "outputs": []
    },
    {
      "cell_type": "markdown",
      "metadata": {
        "id": "to510Djuydlh"
      },
      "source": [
        ""
      ]
    },
    {
      "cell_type": "code",
      "metadata": {
        "id": "GZ3QYe55KGv2"
      },
      "source": [
        "# Note: please put the correct directory to save the weights accordingly if you want to run the code\n",
        "filepath = \"/content/sample_data/Best4_layer5(layer_id=3)_set1000_8epoch_saved-model-{epoch:02d}.hdf5\"\n",
        "\n",
        "checkpoint = tf.keras.callbacks.ModelCheckpoint(filepath, monitor='val_acc', verbose=1,\n",
        "                                                save_weights_only=True, save_best_only=False, mode='auto')"
      ],
      "execution_count": 65,
      "outputs": []
    },
    {
      "cell_type": "code",
      "metadata": {
        "id": "xRUvb7oYKGxs",
        "colab": {
          "base_uri": "https://localhost:8080/"
        },
        "outputId": "ae3a6218-c44c-47bb-d13c-7b4f9d1fa9cb"
      },
      "source": [
        "H = model.fit(X_train, to_categorical(Y_train), epochs=3, batch_size=256, initial_epoch=0,\n",
        "              validation_data=(X_test, to_categorical(Y_test)), verbose=1,\n",
        "              callbacks=[checkpoint])"
      ],
      "execution_count": 66,
      "outputs": [
        {
          "output_type": "stream",
          "text": [
            "Epoch 1/3\n",
            "27/27 [==============================] - 530s 20s/step - loss: 0.2756 - accuracy: 0.6521 - val_loss: 0.1406 - val_accuracy: 0.7540\n",
            "\n",
            "Epoch 00001: saving model to /content/sample_data/Best4_layer5(layer_id=3)_set1000_8epoch_saved-model-01.hdf5\n",
            "Epoch 2/3\n",
            "27/27 [==============================] - 521s 19s/step - loss: 0.1381 - accuracy: 0.7426 - val_loss: 0.1313 - val_accuracy: 0.7537\n",
            "\n",
            "Epoch 00002: saving model to /content/sample_data/Best4_layer5(layer_id=3)_set1000_8epoch_saved-model-02.hdf5\n",
            "Epoch 3/3\n",
            "27/27 [==============================] - 500s 19s/step - loss: 0.1321 - accuracy: 0.7438 - val_loss: 0.1308 - val_accuracy: 0.7537\n",
            "\n",
            "Epoch 00003: saving model to /content/sample_data/Best4_layer5(layer_id=3)_set1000_8epoch_saved-model-03.hdf5\n"
          ],
          "name": "stdout"
        }
      ]
    },
    {
      "cell_type": "code",
      "metadata": {
        "id": "wyzoJqVMKG0M"
      },
      "source": [
        "# load the parameters that is considered giving the best balance between train and test accuracy\n",
        "#model.load_weights('./Model/Best6_layer5(layer_id=3)_set5000_10epoch_saved-model-08.hdf5')\n",
        "model.load_weights('/content/sample_data/Best4_layer5(layer_id=3)_set1000_8epoch_saved-model-03.hdf5')\n",
        "\n",
        "\n",
        "# keep that parameters and replace the initial one\n",
        "params_layer_3 = model.get_weights()[0]\n",
        "params_fix[:, 3, :] = params_layer_3\n",
        "\n"
      ],
      "execution_count": 67,
      "outputs": []
    },
    {
      "cell_type": "markdown",
      "metadata": {
        "id": "dM1OX1lTKXKU"
      },
      "source": [
        "**5th Layer**"
      ]
    },
    {
      "cell_type": "code",
      "metadata": {
        "id": "4C2thMTSKG2a"
      },
      "source": [
        "n_qubits = 2  # number of class\n",
        "dev_fc = qml.device(\"default.qubit\", wires=n_qubits)\n",
        "layer_id = 4 # the layer index to be trained, it starts from zero because of Numpy convention\n",
        "\n",
        "@qml.qnode(dev_fc)\n",
        "def q_fc(params, inputs):\n",
        "    \"\"\"A variational quantum circuit representing the DRC.\n",
        "\n",
        "    Args:\n",
        "        params (array[float]): array of parameters\n",
        "        inputs (array[float]): 1-d input vector (data sample)\n",
        "\n",
        "    Returns:\n",
        "        array[float]: 1-d output vector in the form of [alpha0*<O0>, alpha1*<O1>]\n",
        "    \"\"\"\n",
        "    \n",
        "    # layer iteration\n",
        "    for l in range(len(params_fix[0])):\n",
        "        # qubit iteration\n",
        "        for q in range(n_qubits):\n",
        "            # gate iteration\n",
        "            for g in range(int(len(inputs)/3)):\n",
        "              if l == layer_id: # train only the specified layer\n",
        "                qml.Rot(*(params[0][3*g:3*(g+1)] * inputs[3*g:3*(g+1)] + params[1][3*g:3*(g+1)]), wires=q)\n",
        "              else:\n",
        "                qml.Rot(*(params_fix[0][l][3*g:3*(g+1)] * inputs[3*g:3*(g+1)] + params_fix[1][l][3*g:3*(g+1)]), wires=q)\n",
        "    \n",
        "    return [qml.expval(qml.Hermitian(dm_labels[i], wires=[i])) for i in range(n_qubits)]"
      ],
      "execution_count": 68,
      "outputs": []
    },
    {
      "cell_type": "code",
      "metadata": {
        "id": "TBx6jcxAKG4t"
      },
      "source": [
        "n_component = 4 # number of features used\n",
        "\n",
        "X = tf.keras.Input(shape=(n_component,), name='Input_Layer')\n",
        "\n",
        "\n",
        "# Quantum Layer\n",
        "q_fc_layer = qml.qnn.KerasLayer(q_fc, {\"params\": (2, n_component)}, output_dim=2)(X)\n",
        "\n",
        "# Alpha Layer\n",
        "alpha_layer = class_weights()(q_fc_layer)\n",
        "\n",
        "model = tf.keras.Model(inputs=X, outputs=alpha_layer)"
      ],
      "execution_count": 69,
      "outputs": []
    },
    {
      "cell_type": "code",
      "metadata": {
        "id": "LFrr5qt5KG74"
      },
      "source": [
        "opt = tf.keras.optimizers.Adam(learning_rate=0.05)\n",
        "model.compile(opt, loss='mse', metrics=[\"accuracy\"])"
      ],
      "execution_count": 70,
      "outputs": []
    },
    {
      "cell_type": "code",
      "metadata": {
        "id": "JlGzjF7EKG_W"
      },
      "source": [
        "# Note: please put the correct directory to save the weights accordingly if you want to run the code\n",
        "filepath = \"/content/sample_data/Best4_layer5(layer_id=4)_set1000_8epoch_saved-model-{epoch:02d}.hdf5\"\n",
        "\n",
        "checkpoint = tf.keras.callbacks.ModelCheckpoint(filepath, monitor='val_acc', verbose=1,\n",
        "                                                save_weights_only=True, save_best_only=False, mode='auto')"
      ],
      "execution_count": 71,
      "outputs": []
    },
    {
      "cell_type": "code",
      "metadata": {
        "id": "iuyfflQDKHN_",
        "colab": {
          "base_uri": "https://localhost:8080/"
        },
        "outputId": "04ba40a6-2069-403e-8c96-8c7747317239"
      },
      "source": [
        "H = model.fit(X_train, to_categorical(Y_train), epochs=3, batch_size=256, initial_epoch=0,\n",
        "              validation_data=(X_test, to_categorical(Y_test)), verbose=1,\n",
        "              callbacks=[checkpoint])"
      ],
      "execution_count": 72,
      "outputs": [
        {
          "output_type": "stream",
          "text": [
            "Epoch 1/3\n",
            "27/27 [==============================] - 490s 18s/step - loss: 0.2442 - accuracy: 0.7535 - val_loss: 0.1327 - val_accuracy: 0.7328\n",
            "\n",
            "Epoch 00001: saving model to /content/sample_data/Best4_layer5(layer_id=4)_set1000_8epoch_saved-model-01.hdf5\n",
            "Epoch 2/3\n",
            "27/27 [==============================] - 499s 19s/step - loss: 0.1347 - accuracy: 0.7422 - val_loss: 0.1313 - val_accuracy: 0.7537\n",
            "\n",
            "Epoch 00002: saving model to /content/sample_data/Best4_layer5(layer_id=4)_set1000_8epoch_saved-model-02.hdf5\n",
            "Epoch 3/3\n",
            "27/27 [==============================] - 526s 20s/step - loss: 0.1321 - accuracy: 0.7535 - val_loss: 0.1307 - val_accuracy: 0.7537\n",
            "\n",
            "Epoch 00003: saving model to /content/sample_data/Best4_layer5(layer_id=4)_set1000_8epoch_saved-model-03.hdf5\n"
          ],
          "name": "stdout"
        }
      ]
    },
    {
      "cell_type": "code",
      "metadata": {
        "id": "vadhmtfUKHRP"
      },
      "source": [
        "# load the parameters that is considered giving the best balance between train and test accuracy\n",
        "#model.load_weights('./Model/Best6_layer5(layer_id=4)_set5000_10epoch_saved-model-08.hdf5')\n",
        "model.load_weights('/content/sample_data/Best4_layer5(layer_id=4)_set1000_8epoch_saved-model-03.hdf5')\n",
        "\n",
        "\n",
        "# keep that parameters and replace the initial one\n",
        "params_layer_4 = model.get_weights()[0]\n",
        "params_fix[:, 4, :] = params_layer_4"
      ],
      "execution_count": 73,
      "outputs": []
    },
    {
      "cell_type": "markdown",
      "metadata": {
        "id": "cPynKdGdKuhd"
      },
      "source": [
        "**Final Training**"
      ]
    },
    {
      "cell_type": "code",
      "metadata": {
        "id": "QZkLkl31KHUH"
      },
      "source": [
        "n_qubits = 2  # number of class\n",
        "dev_fc = qml.device(\"default.qubit\", wires=n_qubits)\n",
        "\n",
        "@qml.qnode(dev_fc)\n",
        "def q_fc(params, inputs):\n",
        "    \"\"\"A variational quantum circuit representing the DRC.\n",
        "\n",
        "    Args:\n",
        "        params (array[float]): array of parameters\n",
        "        inputs (array[float]): 1-d input vector (data sample)\n",
        "\n",
        "    Returns:\n",
        "        array[float]: 1-d output vector in the form of [alpha0*<O0>, alpha1*<O1>]\n",
        "    \"\"\"\n",
        "    \n",
        "    # layer iteration\n",
        "    for l in range(len(params[0])):\n",
        "        # qubit iteration\n",
        "        for q in range(n_qubits):\n",
        "            # gate iteration\n",
        "            for g in range(int(len(inputs)/3)):\n",
        "              qml.Rot(*(params[0][l][3*g:3*(g+1)] * inputs[3*g:3*(g+1)] + params[1][l][3*g:3*(g+1)]), wires=q)\n",
        "    \n",
        "    return [qml.expval(qml.Hermitian(dm_labels[i], wires=[i])) for i in range(n_qubits)]"
      ],
      "execution_count": null,
      "outputs": []
    },
    {
      "cell_type": "code",
      "metadata": {
        "id": "eOYdQKhaKzNl"
      },
      "source": [
        "n_component = 6\n",
        "\n",
        "X = tf.keras.Input(shape=(n_component,), name='Input_Layer')\n",
        "\n",
        "\n",
        "# Quantum Layer\n",
        "num_fc_layer = 5\n",
        "q_fc_layer = qml.qnn.KerasLayer(q_fc, {\"params\": (2, num_fc_layer, n_component)}, output_dim=2)(X)\n",
        "\n",
        "# Alpha Layer\n",
        "alpha_layer = class_weights()(q_fc_layer)\n",
        "\n",
        "model = tf.keras.Model(inputs=X, outputs=alpha_layer)"
      ],
      "execution_count": null,
      "outputs": []
    },
    {
      "cell_type": "code",
      "metadata": {
        "id": "hEe9DbG4KzQp"
      },
      "source": [
        "# view each of the layer's name and its specifications\n",
        "model.summary()"
      ],
      "execution_count": null,
      "outputs": []
    },
    {
      "cell_type": "code",
      "metadata": {
        "id": "7t5UOSPcKzTx"
      },
      "source": [
        "model(X_train[0:3])\n",
        "\n",
        "# set the initial weights to the params_fix that has been optimized layer by layer\n",
        "# Note: please change the name of the keras layer accordingly based on the model.summary()\n",
        "model.get_layer('keras_layer').set_weights([params_fix])"
      ],
      "execution_count": null,
      "outputs": []
    },
    {
      "cell_type": "code",
      "metadata": {
        "id": "VrFbdrrZKzWy"
      },
      "source": [
        "opt = tf.keras.optimizers.Adam(learning_rate=0.05)\n",
        "model.compile(opt, loss='mse', metrics=[\"accuracy\"])"
      ],
      "execution_count": null,
      "outputs": []
    },
    {
      "cell_type": "code",
      "metadata": {
        "id": "Vx1gDFVFKzZ7"
      },
      "source": [
        "# Note: please put the correct directory to save the weights accordingly if you want to run the code\n",
        "filepath = \"./Model/Best6_layer5(layer_id=all)_set5000_10epoch_saved-model-{epoch:02d}.hdf5\"\n",
        "checkpoint = tf.keras.callbacks.ModelCheckpoint(filepath, monitor='val_acc', verbose=1,\n",
        "                                                save_weights_only=True, save_best_only=False, mode='auto')"
      ],
      "execution_count": null,
      "outputs": []
    },
    {
      "cell_type": "code",
      "metadata": {
        "id": "hja6mSU6Kzbv"
      },
      "source": [
        "H = model.fit(X_train, to_categorical(Y_train), epochs=10, batch_size=128, initial_epoch=0,\n",
        "              validation_data=(X_test, to_categorical(Y_test)), verbose=1,\n",
        "              callbacks=[checkpoint])"
      ],
      "execution_count": null,
      "outputs": []
    },
    {
      "cell_type": "code",
      "metadata": {
        "id": "7Q8_pMeyKzfJ"
      },
      "source": [
        "# load the parameters that is considered giving the best balance between train and test accuracy\n",
        "model.load_weights('./Model/Best6_layer5(layer_id=all)_set5000_10epoch_saved-model-08.hdf5')\n",
        "\n",
        "\n",
        "# keep the parameters as the best params, also keep the weight vector alpha\n",
        "best_params = model.get_weights()[0]\n",
        "alpha = model.get_weights()[1]"
      ],
      "execution_count": null,
      "outputs": []
    },
    {
      "cell_type": "markdown",
      "metadata": {
        "id": "vS0vPxOxLMfb"
      },
      "source": [
        "**Testing the Performance**"
      ]
    },
    {
      "cell_type": "code",
      "metadata": {
        "id": "GQMr8Vt4KzhM"
      },
      "source": [
        "best_params"
      ],
      "execution_count": null,
      "outputs": []
    },
    {
      "cell_type": "code",
      "metadata": {
        "id": "_bNDu_fsKzje"
      },
      "source": [
        "alpha "
      ],
      "execution_count": null,
      "outputs": []
    },
    {
      "cell_type": "code",
      "metadata": {
        "id": "vI1eaf9jKzlv"
      },
      "source": [
        "# view each of the layer's name and its specifications\n",
        "model.summary()"
      ],
      "execution_count": null,
      "outputs": []
    },
    {
      "cell_type": "code",
      "metadata": {
        "id": "mApm_szWKHW0"
      },
      "source": [
        "# load the parameters to the model\n",
        "# Note: please change the name of the keras layer accordingly based on the model.summary()\n",
        "model.get_layer('keras_layer').set_weights([best_params])\n",
        "model.get_layer('class_weights').set_weights([np.array([alpha])])"
      ],
      "execution_count": null,
      "outputs": []
    },
    {
      "cell_type": "code",
      "metadata": {
        "id": "rEySODFqKHaP"
      },
      "source": [
        "from sklearn.metrics import roc_auc_score"
      ],
      "execution_count": null,
      "outputs": []
    },
    {
      "cell_type": "code",
      "metadata": {
        "id": "LLEx0j2sKHdF"
      },
      "source": [
        "#AUC for training set\n",
        "\n",
        "Y_pred_train = model.predict(X_train)\n",
        "roc_auc_score(Y_train, Y_pred_train[:, 1])"
      ],
      "execution_count": null,
      "outputs": []
    },
    {
      "cell_type": "code",
      "metadata": {
        "id": "5VDEQpsnKHez"
      },
      "source": [
        "#AUC for testing set\n",
        "\n",
        "Y_pred_test = model.predict(X_test)\n",
        "roc_auc_score(Y_test, Y_pred_test[:, 1])"
      ],
      "execution_count": null,
      "outputs": []
    }
  ]
}