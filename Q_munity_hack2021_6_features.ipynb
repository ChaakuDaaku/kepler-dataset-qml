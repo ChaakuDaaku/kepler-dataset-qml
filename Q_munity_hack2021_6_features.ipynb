{
  "nbformat": 4,
  "nbformat_minor": 0,
  "metadata": {
    "colab": {
      "name": "Q-munity-hack2021-6-features.ipynb",
      "provenance": [],
      "collapsed_sections": []
    },
    "kernelspec": {
      "display_name": "Python 3 (system-wide)",
      "language": "python",
      "name": "python3"
    },
    "language_info": {
      "codemirror_mode": {
        "name": "ipython",
        "version": 3
      },
      "file_extension": ".py",
      "mimetype": "text/x-python",
      "name": "python",
      "nbconvert_exporter": "python",
      "pygments_lexer": "ipython3",
      "version": "3.8.5"
    }
  },
  "cells": [
    {
      "cell_type": "code",
      "metadata": {
        "id": "_vlECuRq_4hm"
      },
      "source": [
        "import numpy as np\n",
        "import pandas as pd\n",
        "from sklearn.model_selection import train_test_split"
      ],
      "execution_count": 1,
      "outputs": []
    },
    {
      "cell_type": "code",
      "metadata": {
        "colab": {
          "base_uri": "https://localhost:8080/",
          "height": 226
        },
        "id": "x4hC1JeX_4hr",
        "outputId": "3f523e73-aa11-4e4b-ee69-ae05732942ec"
      },
      "source": [
        "dataset = pd.read_csv('/content/sample_data/exoplanets_2018.csv') \n",
        "#dataset = dataset.rename(columns=header_list)\n",
        "dataset.head()"
      ],
      "execution_count": 2,
      "outputs": [
        {
          "output_type": "execute_result",
          "data": {
            "text/html": [
              "<div>\n",
              "<style scoped>\n",
              "    .dataframe tbody tr th:only-of-type {\n",
              "        vertical-align: middle;\n",
              "    }\n",
              "\n",
              "    .dataframe tbody tr th {\n",
              "        vertical-align: top;\n",
              "    }\n",
              "\n",
              "    .dataframe thead th {\n",
              "        text-align: right;\n",
              "    }\n",
              "</style>\n",
              "<table border=\"1\" class=\"dataframe\">\n",
              "  <thead>\n",
              "    <tr style=\"text-align: right;\">\n",
              "      <th></th>\n",
              "      <th>kepid</th>\n",
              "      <th>kepoi_name</th>\n",
              "      <th>kepler_name</th>\n",
              "      <th>koi_disposition</th>\n",
              "      <th>koi_pdisposition</th>\n",
              "      <th>koi_score</th>\n",
              "      <th>koi_fpflag_nt</th>\n",
              "      <th>koi_fpflag_ss</th>\n",
              "      <th>koi_fpflag_co</th>\n",
              "      <th>koi_fpflag_ec</th>\n",
              "      <th>koi_period</th>\n",
              "      <th>koi_period_err1</th>\n",
              "      <th>koi_period_err2</th>\n",
              "      <th>koi_time0bk</th>\n",
              "      <th>koi_time0bk_err1</th>\n",
              "      <th>koi_time0bk_err2</th>\n",
              "      <th>koi_impact</th>\n",
              "      <th>koi_impact_err1</th>\n",
              "      <th>koi_impact_err2</th>\n",
              "      <th>koi_duration</th>\n",
              "      <th>koi_duration_err1</th>\n",
              "      <th>koi_duration_err2</th>\n",
              "      <th>koi_depth</th>\n",
              "      <th>koi_depth_err1</th>\n",
              "      <th>koi_depth_err2</th>\n",
              "      <th>koi_prad</th>\n",
              "      <th>koi_prad_err1</th>\n",
              "      <th>koi_prad_err2</th>\n",
              "      <th>koi_teq</th>\n",
              "      <th>koi_teq_err1</th>\n",
              "      <th>koi_teq_err2</th>\n",
              "      <th>koi_insol</th>\n",
              "      <th>koi_insol_err1</th>\n",
              "      <th>koi_insol_err2</th>\n",
              "      <th>koi_model_snr</th>\n",
              "      <th>koi_tce_plnt_num</th>\n",
              "      <th>koi_tce_delivname</th>\n",
              "      <th>koi_steff</th>\n",
              "      <th>koi_steff_err1</th>\n",
              "      <th>koi_steff_err2</th>\n",
              "      <th>koi_slogg</th>\n",
              "      <th>koi_slogg_err1</th>\n",
              "      <th>koi_slogg_err2</th>\n",
              "      <th>koi_srad</th>\n",
              "      <th>koi_srad_err1</th>\n",
              "      <th>koi_srad_err2</th>\n",
              "      <th>ra</th>\n",
              "      <th>dec</th>\n",
              "      <th>koi_kepmag</th>\n",
              "    </tr>\n",
              "  </thead>\n",
              "  <tbody>\n",
              "    <tr>\n",
              "      <th>0</th>\n",
              "      <td>10797460</td>\n",
              "      <td>K00752.01</td>\n",
              "      <td>Kepler-227 b</td>\n",
              "      <td>CONFIRMED</td>\n",
              "      <td>CANDIDATE</td>\n",
              "      <td>1.000</td>\n",
              "      <td>0</td>\n",
              "      <td>0</td>\n",
              "      <td>0</td>\n",
              "      <td>0</td>\n",
              "      <td>9.488036</td>\n",
              "      <td>2.780000e-05</td>\n",
              "      <td>-2.780000e-05</td>\n",
              "      <td>170.538750</td>\n",
              "      <td>0.002160</td>\n",
              "      <td>-0.002160</td>\n",
              "      <td>0.146</td>\n",
              "      <td>0.318</td>\n",
              "      <td>-0.146</td>\n",
              "      <td>2.95750</td>\n",
              "      <td>0.08190</td>\n",
              "      <td>-0.08190</td>\n",
              "      <td>616.0</td>\n",
              "      <td>19.5</td>\n",
              "      <td>-19.5</td>\n",
              "      <td>2.26</td>\n",
              "      <td>0.26</td>\n",
              "      <td>-0.15</td>\n",
              "      <td>793.0</td>\n",
              "      <td>NaN</td>\n",
              "      <td>NaN</td>\n",
              "      <td>93.59</td>\n",
              "      <td>29.45</td>\n",
              "      <td>-16.65</td>\n",
              "      <td>35.8</td>\n",
              "      <td>1.0</td>\n",
              "      <td>q1_q17_dr25_tce</td>\n",
              "      <td>5455.0</td>\n",
              "      <td>81.0</td>\n",
              "      <td>-81.0</td>\n",
              "      <td>4.467</td>\n",
              "      <td>0.064</td>\n",
              "      <td>-0.096</td>\n",
              "      <td>0.927</td>\n",
              "      <td>0.105</td>\n",
              "      <td>-0.061</td>\n",
              "      <td>291.93423</td>\n",
              "      <td>48.141651</td>\n",
              "      <td>15.347</td>\n",
              "    </tr>\n",
              "    <tr>\n",
              "      <th>1</th>\n",
              "      <td>10797460</td>\n",
              "      <td>K00752.02</td>\n",
              "      <td>Kepler-227 c</td>\n",
              "      <td>CONFIRMED</td>\n",
              "      <td>CANDIDATE</td>\n",
              "      <td>0.969</td>\n",
              "      <td>0</td>\n",
              "      <td>0</td>\n",
              "      <td>0</td>\n",
              "      <td>0</td>\n",
              "      <td>54.418383</td>\n",
              "      <td>2.480000e-04</td>\n",
              "      <td>-2.480000e-04</td>\n",
              "      <td>162.513840</td>\n",
              "      <td>0.003520</td>\n",
              "      <td>-0.003520</td>\n",
              "      <td>0.586</td>\n",
              "      <td>0.059</td>\n",
              "      <td>-0.443</td>\n",
              "      <td>4.50700</td>\n",
              "      <td>0.11600</td>\n",
              "      <td>-0.11600</td>\n",
              "      <td>875.0</td>\n",
              "      <td>35.5</td>\n",
              "      <td>-35.5</td>\n",
              "      <td>2.83</td>\n",
              "      <td>0.32</td>\n",
              "      <td>-0.19</td>\n",
              "      <td>443.0</td>\n",
              "      <td>NaN</td>\n",
              "      <td>NaN</td>\n",
              "      <td>9.11</td>\n",
              "      <td>2.87</td>\n",
              "      <td>-1.62</td>\n",
              "      <td>25.8</td>\n",
              "      <td>2.0</td>\n",
              "      <td>q1_q17_dr25_tce</td>\n",
              "      <td>5455.0</td>\n",
              "      <td>81.0</td>\n",
              "      <td>-81.0</td>\n",
              "      <td>4.467</td>\n",
              "      <td>0.064</td>\n",
              "      <td>-0.096</td>\n",
              "      <td>0.927</td>\n",
              "      <td>0.105</td>\n",
              "      <td>-0.061</td>\n",
              "      <td>291.93423</td>\n",
              "      <td>48.141651</td>\n",
              "      <td>15.347</td>\n",
              "    </tr>\n",
              "    <tr>\n",
              "      <th>2</th>\n",
              "      <td>10811496</td>\n",
              "      <td>K00753.01</td>\n",
              "      <td>NaN</td>\n",
              "      <td>CANDIDATE</td>\n",
              "      <td>CANDIDATE</td>\n",
              "      <td>0.000</td>\n",
              "      <td>0</td>\n",
              "      <td>0</td>\n",
              "      <td>0</td>\n",
              "      <td>0</td>\n",
              "      <td>19.899140</td>\n",
              "      <td>1.490000e-05</td>\n",
              "      <td>-1.490000e-05</td>\n",
              "      <td>175.850252</td>\n",
              "      <td>0.000581</td>\n",
              "      <td>-0.000581</td>\n",
              "      <td>0.969</td>\n",
              "      <td>5.126</td>\n",
              "      <td>-0.077</td>\n",
              "      <td>1.78220</td>\n",
              "      <td>0.03410</td>\n",
              "      <td>-0.03410</td>\n",
              "      <td>10800.0</td>\n",
              "      <td>171.0</td>\n",
              "      <td>-171.0</td>\n",
              "      <td>14.60</td>\n",
              "      <td>3.92</td>\n",
              "      <td>-1.31</td>\n",
              "      <td>638.0</td>\n",
              "      <td>NaN</td>\n",
              "      <td>NaN</td>\n",
              "      <td>39.30</td>\n",
              "      <td>31.04</td>\n",
              "      <td>-10.49</td>\n",
              "      <td>76.3</td>\n",
              "      <td>1.0</td>\n",
              "      <td>q1_q17_dr25_tce</td>\n",
              "      <td>5853.0</td>\n",
              "      <td>158.0</td>\n",
              "      <td>-176.0</td>\n",
              "      <td>4.544</td>\n",
              "      <td>0.044</td>\n",
              "      <td>-0.176</td>\n",
              "      <td>0.868</td>\n",
              "      <td>0.233</td>\n",
              "      <td>-0.078</td>\n",
              "      <td>297.00482</td>\n",
              "      <td>48.134129</td>\n",
              "      <td>15.436</td>\n",
              "    </tr>\n",
              "    <tr>\n",
              "      <th>3</th>\n",
              "      <td>10848459</td>\n",
              "      <td>K00754.01</td>\n",
              "      <td>NaN</td>\n",
              "      <td>FALSE POSITIVE</td>\n",
              "      <td>FALSE POSITIVE</td>\n",
              "      <td>0.000</td>\n",
              "      <td>0</td>\n",
              "      <td>1</td>\n",
              "      <td>0</td>\n",
              "      <td>0</td>\n",
              "      <td>1.736952</td>\n",
              "      <td>2.630000e-07</td>\n",
              "      <td>-2.630000e-07</td>\n",
              "      <td>170.307565</td>\n",
              "      <td>0.000115</td>\n",
              "      <td>-0.000115</td>\n",
              "      <td>1.276</td>\n",
              "      <td>0.115</td>\n",
              "      <td>-0.092</td>\n",
              "      <td>2.40641</td>\n",
              "      <td>0.00537</td>\n",
              "      <td>-0.00537</td>\n",
              "      <td>8080.0</td>\n",
              "      <td>12.8</td>\n",
              "      <td>-12.8</td>\n",
              "      <td>33.46</td>\n",
              "      <td>8.50</td>\n",
              "      <td>-2.83</td>\n",
              "      <td>1395.0</td>\n",
              "      <td>NaN</td>\n",
              "      <td>NaN</td>\n",
              "      <td>891.96</td>\n",
              "      <td>668.95</td>\n",
              "      <td>-230.35</td>\n",
              "      <td>505.6</td>\n",
              "      <td>1.0</td>\n",
              "      <td>q1_q17_dr25_tce</td>\n",
              "      <td>5805.0</td>\n",
              "      <td>157.0</td>\n",
              "      <td>-174.0</td>\n",
              "      <td>4.564</td>\n",
              "      <td>0.053</td>\n",
              "      <td>-0.168</td>\n",
              "      <td>0.791</td>\n",
              "      <td>0.201</td>\n",
              "      <td>-0.067</td>\n",
              "      <td>285.53461</td>\n",
              "      <td>48.285210</td>\n",
              "      <td>15.597</td>\n",
              "    </tr>\n",
              "    <tr>\n",
              "      <th>4</th>\n",
              "      <td>10854555</td>\n",
              "      <td>K00755.01</td>\n",
              "      <td>Kepler-664 b</td>\n",
              "      <td>CONFIRMED</td>\n",
              "      <td>CANDIDATE</td>\n",
              "      <td>1.000</td>\n",
              "      <td>0</td>\n",
              "      <td>0</td>\n",
              "      <td>0</td>\n",
              "      <td>0</td>\n",
              "      <td>2.525592</td>\n",
              "      <td>3.760000e-06</td>\n",
              "      <td>-3.760000e-06</td>\n",
              "      <td>171.595550</td>\n",
              "      <td>0.001130</td>\n",
              "      <td>-0.001130</td>\n",
              "      <td>0.701</td>\n",
              "      <td>0.235</td>\n",
              "      <td>-0.478</td>\n",
              "      <td>1.65450</td>\n",
              "      <td>0.04200</td>\n",
              "      <td>-0.04200</td>\n",
              "      <td>603.0</td>\n",
              "      <td>16.9</td>\n",
              "      <td>-16.9</td>\n",
              "      <td>2.75</td>\n",
              "      <td>0.88</td>\n",
              "      <td>-0.35</td>\n",
              "      <td>1406.0</td>\n",
              "      <td>NaN</td>\n",
              "      <td>NaN</td>\n",
              "      <td>926.16</td>\n",
              "      <td>874.33</td>\n",
              "      <td>-314.24</td>\n",
              "      <td>40.9</td>\n",
              "      <td>1.0</td>\n",
              "      <td>q1_q17_dr25_tce</td>\n",
              "      <td>6031.0</td>\n",
              "      <td>169.0</td>\n",
              "      <td>-211.0</td>\n",
              "      <td>4.438</td>\n",
              "      <td>0.070</td>\n",
              "      <td>-0.210</td>\n",
              "      <td>1.046</td>\n",
              "      <td>0.334</td>\n",
              "      <td>-0.133</td>\n",
              "      <td>288.75488</td>\n",
              "      <td>48.226200</td>\n",
              "      <td>15.509</td>\n",
              "    </tr>\n",
              "  </tbody>\n",
              "</table>\n",
              "</div>"
            ],
            "text/plain": [
              "      kepid kepoi_name   kepler_name  ...         ra        dec  koi_kepmag\n",
              "0  10797460  K00752.01  Kepler-227 b  ...  291.93423  48.141651      15.347\n",
              "1  10797460  K00752.02  Kepler-227 c  ...  291.93423  48.141651      15.347\n",
              "2  10811496  K00753.01           NaN  ...  297.00482  48.134129      15.436\n",
              "3  10848459  K00754.01           NaN  ...  285.53461  48.285210      15.597\n",
              "4  10854555  K00755.01  Kepler-664 b  ...  288.75488  48.226200      15.509\n",
              "\n",
              "[5 rows x 49 columns]"
            ]
          },
          "metadata": {
            "tags": []
          },
          "execution_count": 2
        }
      ]
    },
    {
      "cell_type": "code",
      "metadata": {
        "id": "RG46y94I_4hv"
      },
      "source": [
        "pd.set_option(\"display.max_columns\", None)"
      ],
      "execution_count": 3,
      "outputs": []
    },
    {
      "cell_type": "code",
      "metadata": {
        "id": "zptX-WgS_4hx"
      },
      "source": [
        "dataset=dataset[['koi_disposition','koi_fpflag_nt','koi_fpflag_ss','koi_fpflag_co','koi_fpflag_ec','koi_depth', 'koi_model_snr']]"
      ],
      "execution_count": 4,
      "outputs": []
    },
    {
      "cell_type": "code",
      "metadata": {
        "colab": {
          "base_uri": "https://localhost:8080/"
        },
        "id": "PPLMQuHx_4hy",
        "outputId": "17a1412e-184d-4e9b-c288-62f1fb6d5e57"
      },
      "source": [
        "for col in dataset.columns:\n",
        "    print(col)"
      ],
      "execution_count": 5,
      "outputs": [
        {
          "output_type": "stream",
          "text": [
            "koi_disposition\n",
            "koi_fpflag_nt\n",
            "koi_fpflag_ss\n",
            "koi_fpflag_co\n",
            "koi_fpflag_ec\n",
            "koi_depth\n",
            "koi_model_snr\n"
          ],
          "name": "stdout"
        }
      ]
    },
    {
      "cell_type": "code",
      "metadata": {
        "id": "8A_53nBl_4hz",
        "colab": {
          "base_uri": "https://localhost:8080/"
        },
        "outputId": "c8cae344-b871-4752-fbeb-8b997075f64d"
      },
      "source": [
        "dataset[\"koi_disposition\"].replace({\"CONFIRMED\": \"1\", \"CANDIDATE\": \"0\", \"FALSE POSITIVE\": \"0\"}, inplace=True)\n",
        "dataset.isnull().sum().sum()\n",
        "dataset=dataset.dropna()  \n",
        "dataset[\"koi_disposition\"].value_counts()"
      ],
      "execution_count": 6,
      "outputs": [
        {
          "output_type": "execute_result",
          "data": {
            "text/plain": [
              "0    6845\n",
              "1    2356\n",
              "Name: koi_disposition, dtype: int64"
            ]
          },
          "metadata": {
            "tags": []
          },
          "execution_count": 6
        }
      ]
    },
    {
      "cell_type": "code",
      "metadata": {
        "colab": {
          "base_uri": "https://localhost:8080/",
          "height": 206
        },
        "id": "99qyLE1w_4h0",
        "outputId": "4d849742-fae0-463b-fcba-39c469939050"
      },
      "source": [
        "dataset.head()"
      ],
      "execution_count": null,
      "outputs": [
        {
          "output_type": "execute_result",
          "data": {
            "text/html": [
              "<div>\n",
              "<style scoped>\n",
              "    .dataframe tbody tr th:only-of-type {\n",
              "        vertical-align: middle;\n",
              "    }\n",
              "\n",
              "    .dataframe tbody tr th {\n",
              "        vertical-align: top;\n",
              "    }\n",
              "\n",
              "    .dataframe thead th {\n",
              "        text-align: right;\n",
              "    }\n",
              "</style>\n",
              "<table border=\"1\" class=\"dataframe\">\n",
              "  <thead>\n",
              "    <tr style=\"text-align: right;\">\n",
              "      <th></th>\n",
              "      <th>koi_disposition</th>\n",
              "      <th>koi_fpflag_nt</th>\n",
              "      <th>koi_fpflag_ss</th>\n",
              "      <th>koi_fpflag_co</th>\n",
              "      <th>koi_fpflag_ec</th>\n",
              "      <th>koi_depth</th>\n",
              "      <th>koi_model_snr</th>\n",
              "    </tr>\n",
              "  </thead>\n",
              "  <tbody>\n",
              "    <tr>\n",
              "      <th>0</th>\n",
              "      <td>1</td>\n",
              "      <td>0</td>\n",
              "      <td>0</td>\n",
              "      <td>0</td>\n",
              "      <td>0</td>\n",
              "      <td>616.0</td>\n",
              "      <td>35.8</td>\n",
              "    </tr>\n",
              "    <tr>\n",
              "      <th>1</th>\n",
              "      <td>1</td>\n",
              "      <td>0</td>\n",
              "      <td>0</td>\n",
              "      <td>0</td>\n",
              "      <td>0</td>\n",
              "      <td>875.0</td>\n",
              "      <td>25.8</td>\n",
              "    </tr>\n",
              "    <tr>\n",
              "      <th>2</th>\n",
              "      <td>0</td>\n",
              "      <td>0</td>\n",
              "      <td>0</td>\n",
              "      <td>0</td>\n",
              "      <td>0</td>\n",
              "      <td>10800.0</td>\n",
              "      <td>76.3</td>\n",
              "    </tr>\n",
              "    <tr>\n",
              "      <th>3</th>\n",
              "      <td>0</td>\n",
              "      <td>0</td>\n",
              "      <td>1</td>\n",
              "      <td>0</td>\n",
              "      <td>0</td>\n",
              "      <td>8080.0</td>\n",
              "      <td>505.6</td>\n",
              "    </tr>\n",
              "    <tr>\n",
              "      <th>4</th>\n",
              "      <td>1</td>\n",
              "      <td>0</td>\n",
              "      <td>0</td>\n",
              "      <td>0</td>\n",
              "      <td>0</td>\n",
              "      <td>603.0</td>\n",
              "      <td>40.9</td>\n",
              "    </tr>\n",
              "  </tbody>\n",
              "</table>\n",
              "</div>"
            ],
            "text/plain": [
              "  koi_disposition  koi_fpflag_nt  koi_fpflag_ss  koi_fpflag_co  koi_fpflag_ec  \\\n",
              "0               1              0              0              0              0   \n",
              "1               1              0              0              0              0   \n",
              "2               0              0              0              0              0   \n",
              "3               0              0              1              0              0   \n",
              "4               1              0              0              0              0   \n",
              "\n",
              "   koi_depth  koi_model_snr  \n",
              "0      616.0           35.8  \n",
              "1      875.0           25.8  \n",
              "2    10800.0           76.3  \n",
              "3     8080.0          505.6  \n",
              "4      603.0           40.9  "
            ]
          },
          "metadata": {
            "tags": []
          },
          "execution_count": 11
        }
      ]
    },
    {
      "cell_type": "code",
      "metadata": {
        "colab": {
          "base_uri": "https://localhost:8080/"
        },
        "id": "ivSf2KaX_4h2",
        "outputId": "9814edb0-d36d-4259-dde9-8fe380fb5a80"
      },
      "source": [
        "dataset = dataset.to_numpy()\n",
        "\n",
        "# Sepparating the label (Y) from the input features (X)\n",
        "Y = dataset[:, 0]\n",
        "Y = np.array(Y, dtype=int)\n",
        "X = dataset[:, 1:]\n",
        "\n",
        "# Sanity check\n",
        "print(X.shape, Y.shape)"
      ],
      "execution_count": 7,
      "outputs": [
        {
          "output_type": "stream",
          "text": [
            "(9201, 6) (9201,)\n"
          ],
          "name": "stdout"
        }
      ]
    },
    {
      "cell_type": "code",
      "metadata": {
        "id": "FhxV-lls_4h3",
        "cellView": "form"
      },
      "source": [
        "#@title Hidden\n",
        "# Separate data with label 0 and label 1\n",
        "\n",
        "x_0 = X[Y == 0, :]\n",
        "x_1 = X[Y == 1, :]\n",
        "y_0 = Y[Y==0]\n",
        "y_1 = Y[Y==1]\n",
        "\n",
        "# Sanity check\n",
        "print(x_0.shape, y_0.shape)\n",
        "print(x_1.shape, y_1.shape)"
      ],
      "execution_count": null,
      "outputs": []
    },
    {
      "cell_type": "code",
      "metadata": {
        "id": "CCLRDtvg_4h5",
        "colab": {
          "base_uri": "https://localhost:8080/"
        },
        "outputId": "b7898e49-f8e0-4b40-b433-4e04dccf7c27"
      },
      "source": [
        "# Split 70% of the data for training set and 30% for testing set\n",
        "\n",
        "X_train, X_test, Y_train, Y_test = train_test_split(X, Y, test_size=0.3, random_state=2001, shuffle=True, stratify=Y)\n",
        "# x_train_1, x_test_1, y_train_1, y_test_1 = train_test_split(x_1, y_1, test_size=0.3, random_state=2001,shuffle=True, stratify=Y)\n",
        "print(X_train.shape, Y_train.shape)\n",
        "print(X_test.shape, Y_test.shape)"
      ],
      "execution_count": 8,
      "outputs": [
        {
          "output_type": "stream",
          "text": [
            "(6440, 6) (6440,)\n",
            "(2761, 6) (2761,)\n"
          ],
          "name": "stdout"
        }
      ]
    },
    {
      "cell_type": "code",
      "metadata": {
        "id": "NAoYVInq_4h6",
        "cellView": "form"
      },
      "source": [
        "#@title Hidden\n",
        "num_sample = 1500 # sample per class, total = 5000\n",
        "\n",
        "# Take the first 5000 samples (1500 from each class) from training set for X_train and Y_train\n",
        "X_train = np.concatenate((x_train_0[:num_sample, :], x_train_1[:num_sample, :]), axis=0)\n",
        "Y_train = np.concatenate((y_train_0[:num_sample], y_train_1[:num_sample]), axis=0)\n",
        "\n",
        "# Take the first 5000 samples (1500 from each class) from testing set for X_test and Y_test\n",
        "X_test = np.concatenate((x_test_0[:num_sample, :], x_test_1[:num_sample, :]), axis=0)\n",
        "Y_test = np.concatenate((y_test_0[:num_sample], y_test_1[:num_sample]), axis=0)\n",
        "\n",
        "# Manual Check \n",
        "print(X_train.shape, Y_train.shape)\n",
        "print(X_test.shape, Y_test.shape)"
      ],
      "execution_count": null,
      "outputs": []
    },
    {
      "cell_type": "code",
      "metadata": {
        "id": "9deOUOq8_4h6"
      },
      "source": [
        "#Save extracted datasets on the disk\n",
        "#!mkdir 'KeplerDataset'\n",
        "\n",
        "np.savetxt('/content/sample_data/X_train_6694.txt', X_train)\n",
        "np.savetxt('/content/sample_data/X_test_2870.txt', X_test)\n",
        "np.savetxt('/content/sample_data/Y_train_6694.txt', Y_train)\n",
        "np.savetxt('/content/sample_data/Y_test_2870.txt', Y_test)"
      ],
      "execution_count": 9,
      "outputs": []
    },
    {
      "cell_type": "code",
      "metadata": {
        "id": "iYkuN1MK_4h7",
        "colab": {
          "base_uri": "https://localhost:8080/"
        },
        "cellView": "code",
        "outputId": "e5f2a6e7-60b5-442e-ddde-c7d033754d54"
      },
      "source": [
        "#@title Hidden\n",
        "# Code to load the saved subset\n",
        "\n",
        "\n",
        "X_train = np.loadtxt('/content/sample_data/X_train_6694.txt')\n",
        "Y_train = np.loadtxt('/content/sample_data/Y_train_6694.txt')\n",
        "\n",
        "X_test = np.loadtxt('/content/sample_data/X_test_2870.txt')\n",
        "Y_test = np.loadtxt('/content/sample_data/Y_test_2870.txt')\n",
        "\n",
        "# Check\n",
        "print(X_train.shape, Y_train.shape)\n",
        "print(X_test.shape, Y_test.shape)"
      ],
      "execution_count": 10,
      "outputs": [
        {
          "output_type": "stream",
          "text": [
            "(6440, 6) (6440,)\n",
            "(2761, 6) (2761,)\n"
          ],
          "name": "stdout"
        }
      ]
    },
    {
      "cell_type": "code",
      "metadata": {
        "id": "9ICKFYk4_4h7"
      },
      "source": [
        "#Training the Quantum Circuit in Simulator\n",
        "#pip install pennylane\n",
        "import pennylane as qml\n",
        "from pennylane import numpy as np\n",
        "from pennylane.optimize import AdamOptimizer\n",
        "\n",
        "import tensorflow as tf\n",
        "from tensorflow.keras.utils import to_categorical\n"
      ],
      "execution_count": 31,
      "outputs": []
    },
    {
      "cell_type": "code",
      "metadata": {
        "id": "3N5YVrYeKeHP"
      },
      "source": [
        "# Set a random seed\n",
        "np.random.seed(42)"
      ],
      "execution_count": 32,
      "outputs": []
    },
    {
      "cell_type": "code",
      "metadata": {
        "id": "zgGsQMKo_4h8"
      },
      "source": [
        "# Define output labels as quantum state vectors\n",
        "label_0 = [[1], [0]]\n",
        "label_1 = [[0], [1]]\n",
        "\n",
        "\n",
        "def density_matrix(state):\n",
        "    \"\"\"Calculates the density matrix representation of a state.\n",
        "\n",
        "    Args:\n",
        "        state (array[complex]): array representing a quantum state vector\n",
        "\n",
        "    Returns:\n",
        "        dm: (array[complex]): array representing the density matrix\n",
        "    \"\"\"\n",
        "    return np.outer(state,  np.conj(state))\n",
        "\n",
        "state_labels = [label_0, label_1]\n",
        "dm_labels = [density_matrix(state_labels[i]) for i in range(2)]"
      ],
      "execution_count": 33,
      "outputs": []
    },
    {
      "cell_type": "code",
      "metadata": {
        "id": "aaqPRUy3_4h8"
      },
      "source": [
        "from keras import backend as K\n",
        "\n",
        "\n",
        "# Alpha Custom Layer\n",
        "class class_weights(tf.keras.layers.Layer):\n",
        "    def __init__(self):\n",
        "        super(class_weights, self).__init__()\n",
        "        w_init = tf.random_normal_initializer()\n",
        "        self.w = tf.Variable(\n",
        "            initial_value=w_init(shape=(1, 2), dtype=\"float32\"),\n",
        "            trainable=True,\n",
        "        )\n",
        "\n",
        "    def call(self, inputs):\n",
        "        return (inputs * self.w)"
      ],
      "execution_count": 34,
      "outputs": []
    },
    {
      "cell_type": "code",
      "metadata": {
        "id": "-carE_ToZcs8"
      },
      "source": [
        "from keras import backend as K\n",
        "\n",
        "\n",
        "# Alpha Custom Layer\n",
        "class class_weights(tf.keras.layers.Layer):\n",
        "    def __init__(self):\n",
        "        super(class_weights, self).__init__()\n",
        "        w_init = tf.random_normal_initializer()\n",
        "        self.w = tf.Variable(\n",
        "            initial_value=w_init(shape=(1, 2), dtype=\"float32\"),\n",
        "            trainable=True,\n",
        "        )\n",
        "\n",
        "    def call(self, inputs):\n",
        "        return (inputs * self.w)"
      ],
      "execution_count": 35,
      "outputs": []
    },
    {
      "cell_type": "code",
      "metadata": {
        "colab": {
          "base_uri": "https://localhost:8080/"
        },
        "id": "mUBE653l0Yjm",
        "outputId": "d56af406-d9b8-404b-bf17-b81aa2c6acbf"
      },
      "source": [
        "num_fc_layer = 5 # number of layer\n",
        "params_fix = np.random.uniform(size=(2, num_fc_layer, 6))\n",
        "print(params_fix)"
      ],
      "execution_count": 36,
      "outputs": [
        {
          "output_type": "stream",
          "text": [
            "[[[0.37454012 0.95071431 0.73199394 0.59865848 0.15601864 0.15599452]\n",
            "  [0.05808361 0.86617615 0.60111501 0.70807258 0.02058449 0.96990985]\n",
            "  [0.83244264 0.21233911 0.18182497 0.18340451 0.30424224 0.52475643]\n",
            "  [0.43194502 0.29122914 0.61185289 0.13949386 0.29214465 0.36636184]\n",
            "  [0.45606998 0.78517596 0.19967378 0.51423444 0.59241457 0.04645041]]\n",
            "\n",
            " [[0.60754485 0.17052412 0.06505159 0.94888554 0.96563203 0.80839735]\n",
            "  [0.30461377 0.09767211 0.68423303 0.44015249 0.12203823 0.49517691]\n",
            "  [0.03438852 0.9093204  0.25877998 0.66252228 0.31171108 0.52006802]\n",
            "  [0.54671028 0.18485446 0.96958463 0.77513282 0.93949894 0.89482735]\n",
            "  [0.59789998 0.92187424 0.0884925  0.19598286 0.04522729 0.32533033]]]\n"
          ],
          "name": "stdout"
        }
      ]
    },
    {
      "cell_type": "code",
      "metadata": {
        "id": "X3Ln2XAj0Yyq"
      },
      "source": [
        "n_qubits = 2  # number of class\n",
        "dev_fc = qml.device(\"default.qubit\", wires=n_qubits)\n",
        "layer_id = 0 # the layer index to be trained, it starts from zero because of Numpy convention\n",
        "\n",
        "@qml.qnode(dev_fc)\n",
        "def q_fc(params, inputs):\n",
        "    \"\"\"A variational quantum circuit representing the DRC.\n",
        "\n",
        "    Args:\n",
        "        params (array[float]): array of parameters\n",
        "        inputs (array[float]): 1-d input vector (data sample)\n",
        "\n",
        "    Returns:\n",
        "        array[float]: 1-d output vector in the form of [alpha0*<O0>, alpha1*<O1>]\n",
        "    \"\"\"\n",
        "    \n",
        "    # layer iteration\n",
        "    for l in range(len(params_fix[0])):\n",
        "        # qubit iteration\n",
        "        for q in range(n_qubits):\n",
        "            # gate iteration\n",
        "            for g in range(int(len(inputs)/3)):\n",
        "              if l == layer_id: # train only the specified layer\n",
        "                qml.Rot(*(params[0][3*g:3*(g+1)] * inputs[3*g:3*(g+1)] + params[1][3*g:3*(g+1)]), wires=q)\n",
        "              else:\n",
        "                qml.Rot(*(params_fix[0][l][3*g:3*(g+1)] * inputs[3*g:3*(g+1)] + params_fix[1][l][3*g:3*(g+1)]), wires=q)\n",
        "    \n",
        "    return [qml.expval(qml.Hermitian(dm_labels[i], wires=[i])) for i in range(n_qubits)]"
      ],
      "execution_count": 37,
      "outputs": []
    },
    {
      "cell_type": "code",
      "metadata": {
        "id": "1dpf-rjN0hyf"
      },
      "source": [
        "n_component = 6 # number of features used\n",
        "\n",
        "X = tf.keras.Input(shape=(n_component,), name='Input_Layer')\n",
        "\n",
        "\n",
        "# Quantum Layer\n",
        "q_fc_layer = qml.qnn.KerasLayer(q_fc, {\"params\": (2, n_component)}, output_dim=2)(X)\n",
        "\n",
        "# Alpha Layer\n",
        "alpha_layer = class_weights()(q_fc_layer)\n",
        "\n",
        "model = tf.keras.Model(inputs=X, outputs=alpha_layer)"
      ],
      "execution_count": 38,
      "outputs": []
    },
    {
      "cell_type": "code",
      "metadata": {
        "id": "1RB5piW-0h8R"
      },
      "source": [
        "opt = tf.keras.optimizers.Adam(learning_rate=0.05)\n",
        "model.compile(opt, loss='mse', metrics=[\"accuracy\"])"
      ],
      "execution_count": 39,
      "outputs": []
    },
    {
      "cell_type": "code",
      "metadata": {
        "id": "uPGrIIv60iIB"
      },
      "source": [
        "filepath = \"/content/sample_data/Best6_layer5(layer_id=0)_set1000_8epoch_saved-model-{epoch:02d}.hdf5\"\n",
        "checkpoint = tf.keras.callbacks.ModelCheckpoint(filepath, monitor='val_acc', verbose=1,\n",
        "                                                save_weights_only=True, save_best_only=False, mode='auto')"
      ],
      "execution_count": 40,
      "outputs": []
    },
    {
      "cell_type": "code",
      "metadata": {
        "colab": {
          "base_uri": "https://localhost:8080/"
        },
        "id": "vU8-Kr6V050y",
        "outputId": "7cbb1c2e-9c99-4327-846d-7413d5569f89"
      },
      "source": [
        "H = model.fit(X_train, to_categorical(Y_train), epochs=1, batch_size=256, initial_epoch=0,\n",
        "              validation_data=(X_test, to_categorical(Y_test)), verbose=1,\n",
        "              callbacks=[checkpoint])"
      ],
      "execution_count": 42,
      "outputs": [
        {
          "output_type": "stream",
          "text": [
            "26/26 [==============================] - 614s 24s/step - loss: 0.3244 - accuracy: 0.5705 - val_loss: 0.2707 - val_accuracy: 0.6121\n",
            "\n",
            "Epoch 00001: saving model to /content/sample_data/Best6_layer5(layer_id=0)_set1000_8epoch_saved-model-01.hdf5\n"
          ],
          "name": "stdout"
        }
      ]
    },
    {
      "cell_type": "code",
      "metadata": {
        "colab": {
          "base_uri": "https://localhost:8080/"
        },
        "id": "vM8ixM-aJmxz",
        "outputId": "b1ea6693-af61-4a6f-ff1e-92cfa3f8e2e5"
      },
      "source": [
        "!pwd\n",
        "!ls /content/sample_data/Best"
      ],
      "execution_count": null,
      "outputs": [
        {
          "output_type": "stream",
          "text": [
            "/content\n",
            "ls: cannot access '/content/sample_data/Best': No such file or directory\n"
          ],
          "name": "stdout"
        }
      ]
    },
    {
      "cell_type": "code",
      "metadata": {
        "id": "yBjtr3Gt06BF"
      },
      "source": [
        "model.load_weights('/content/sample_data/Best6_layer5(layer_id=0)_set1000_8epoch_saved-model-03.hdf5')\n",
        "\n",
        "# keep that parameters and replace the initial one\n",
        "params_layer_0 = model.get_weights()[0]\n",
        "params_fix[:, 0, :] = params_layer_0"
      ],
      "execution_count": 43,
      "outputs": []
    },
    {
      "cell_type": "markdown",
      "metadata": {
        "id": "S8D2OrBLJJvI"
      },
      "source": [
        "**2nd Layer**"
      ]
    },
    {
      "cell_type": "code",
      "metadata": {
        "id": "PRMuEmwjI78q"
      },
      "source": [
        "n_qubits = 2  # number of class\n",
        "dev_fc = qml.device(\"default.qubit\", wires=n_qubits)\n",
        "layer_id = 1 # the layer index to be trained, it starts from zero because of Numpy convention\n",
        "\n",
        "@qml.qnode(dev_fc)\n",
        "def q_fc(params, inputs):\n",
        "    \"\"\"A variational quantum circuit representing the DRC.\n",
        "\n",
        "    Args:\n",
        "        params (array[float]): array of parameters\n",
        "        inputs (array[float]): 1-d input vector (data sample)\n",
        "\n",
        "    Returns:\n",
        "        array[float]: 1-d output vector in the form of [alpha0*<O0>, alpha1*<O1>]\n",
        "    \"\"\"\n",
        "    \n",
        "    # layer iteration\n",
        "    for l in range(len(params_fix[0])):\n",
        "        # qubit iteration\n",
        "        for q in range(n_qubits):\n",
        "            # gate iteration\n",
        "            for g in range(int(len(inputs)/3)):\n",
        "              if l == layer_id: # train only the specified layer\n",
        "                qml.Rot(*(params[0][3*g:3*(g+1)] * inputs[3*g:3*(g+1)] + params[1][3*g:3*(g+1)]), wires=q)\n",
        "              else:\n",
        "                qml.Rot(*(params_fix[0][l][3*g:3*(g+1)] * inputs[3*g:3*(g+1)] + params_fix[1][l][3*g:3*(g+1)]), wires=q)\n",
        "    \n",
        "    return [qml.expval(qml.Hermitian(dm_labels[i], wires=[i])) for i in range(n_qubits)]"
      ],
      "execution_count": 44,
      "outputs": []
    },
    {
      "cell_type": "code",
      "metadata": {
        "id": "Jcl4-trtJdrq"
      },
      "source": [
        "n_component = 6 # number of features used\n",
        "\n",
        "X = tf.keras.Input(shape=(n_component,), name='Input_Layer')\n",
        "\n",
        "\n",
        "# Quantum Layer\n",
        "q_fc_layer = qml.qnn.KerasLayer(q_fc, {\"params\": (2, n_component)}, output_dim=2)(X)\n",
        "\n",
        "# Alpha Layer\n",
        "alpha_layer = class_weights()(q_fc_layer)\n",
        "\n",
        "model = tf.keras.Model(inputs=X, outputs=alpha_layer)"
      ],
      "execution_count": 45,
      "outputs": []
    },
    {
      "cell_type": "code",
      "metadata": {
        "id": "NIEhpBJaJd3U"
      },
      "source": [
        "opt = tf.keras.optimizers.Adam(learning_rate=0.05)\n",
        "model.compile(opt, loss='mse', metrics=[\"accuracy\"])"
      ],
      "execution_count": 46,
      "outputs": []
    },
    {
      "cell_type": "code",
      "metadata": {
        "id": "1rj2LIT-Jd6o"
      },
      "source": [
        "# Note: please put the correct directory to save the weights accordingly if you want to run the code\n",
        "filepath = \"/content/sample_data/Best6_layer5(layer_id=1)_3epoch_saved-model-{epoch:02d}.hdf5\"\n",
        "checkpoint = tf.keras.callbacks.ModelCheckpoint(filepath, monitor='val_acc', verbose=1,\n",
        "                                                save_weights_only=True, save_best_only=False, mode='auto')"
      ],
      "execution_count": 47,
      "outputs": []
    },
    {
      "cell_type": "code",
      "metadata": {
        "id": "4sDPQDQqJd-a",
        "colab": {
          "base_uri": "https://localhost:8080/"
        },
        "outputId": "b903f9a1-1ae4-4497-e4f1-e81cf6944177"
      },
      "source": [
        "H = model.fit(X_train, to_categorical(Y_train), epochs=1, batch_size=256, initial_epoch=0,\n",
        "              validation_data=(X_test, to_categorical(Y_test)), verbose=1,\n",
        "              callbacks=[checkpoint])"
      ],
      "execution_count": 49,
      "outputs": [
        {
          "output_type": "stream",
          "text": [
            "26/26 [==============================] - 607s 24s/step - loss: 0.3310 - accuracy: 0.5741 - val_loss: 0.2672 - val_accuracy: 0.6096\n",
            "\n",
            "Epoch 00001: saving model to /content/sample_data/Best6_layer5(layer_id=1)_3epoch_saved-model-01.hdf5\n"
          ],
          "name": "stdout"
        }
      ]
    },
    {
      "cell_type": "code",
      "metadata": {
        "id": "BnpMQPejJeB9"
      },
      "source": [
        "# load the parameters that is considered giving the best balance between train and test accuracy\n",
        "model.load_weights('/content/sample_data/Best6_layer5(layer_id=1)_3epoch_saved-model-02.hdf5')\n",
        "\n",
        "\n",
        "# keep that parameters and replace the initial one\n",
        "params_layer_1 = model.get_weights()[0]\n",
        "params_fix[:, 1, :] = params_layer_1"
      ],
      "execution_count": 50,
      "outputs": []
    },
    {
      "cell_type": "markdown",
      "metadata": {
        "id": "3IfcAMhiJr8n"
      },
      "source": [
        "**3rd Layer**"
      ]
    },
    {
      "cell_type": "code",
      "metadata": {
        "id": "zkiS9SqUJeJR"
      },
      "source": [
        "n_qubits = 2  # number of class\n",
        "dev_fc = qml.device(\"default.qubit\", wires=n_qubits)\n",
        "layer_id = 2 # the layer index to be trained, it starts from zero because of Numpy convention\n",
        "\n",
        "@qml.qnode(dev_fc)\n",
        "def q_fc(params, inputs):\n",
        "    \"\"\"A variational quantum circuit representing the DRC.\n",
        "\n",
        "    Args:\n",
        "        params (array[float]): array of parameters\n",
        "        inputs (array[float]): 1-d input vector (data sample)\n",
        "\n",
        "    Returns:\n",
        "        array[float]: 1-d output vector in the form of [alpha0*<O0>, alpha1*<O1>]\n",
        "    \"\"\"\n",
        "    \n",
        "    # layer iteration\n",
        "    for l in range(len(params_fix[0])):\n",
        "        # qubit iteration\n",
        "        for q in range(n_qubits):\n",
        "            # gate iteration\n",
        "            for g in range(int(len(inputs)/3)):\n",
        "              if l == layer_id: # train only the specified layer\n",
        "                qml.Rot(*(params[0][3*g:3*(g+1)] * inputs[3*g:3*(g+1)] + params[1][3*g:3*(g+1)]), wires=q)\n",
        "              else:\n",
        "                qml.Rot(*(params_fix[0][l][3*g:3*(g+1)] * inputs[3*g:3*(g+1)] + params_fix[1][l][3*g:3*(g+1)]), wires=q)\n",
        "    \n",
        "    return [qml.expval(qml.Hermitian(dm_labels[i], wires=[i])) for i in range(n_qubits)]"
      ],
      "execution_count": 51,
      "outputs": []
    },
    {
      "cell_type": "code",
      "metadata": {
        "id": "1C8tPRqtJeMD"
      },
      "source": [
        "n_component = 6 # number of features used\n",
        "\n",
        "X = tf.keras.Input(shape=(n_component,), name='Input_Layer')\n",
        "\n",
        "\n",
        "# Quantum Layer\n",
        "q_fc_layer = qml.qnn.KerasLayer(q_fc, {\"params\": (2, n_component)}, output_dim=2)(X)\n",
        "\n",
        "# Alpha Layer\n",
        "alpha_layer = class_weights()(q_fc_layer)\n",
        "\n",
        "model = tf.keras.Model(inputs=X, outputs=alpha_layer)"
      ],
      "execution_count": 52,
      "outputs": []
    },
    {
      "cell_type": "code",
      "metadata": {
        "id": "T32BcvXgJePB"
      },
      "source": [
        "opt = tf.keras.optimizers.Adam(learning_rate=0.05)\n",
        "model.compile(opt, loss='mse', metrics=[\"accuracy\"])"
      ],
      "execution_count": 53,
      "outputs": []
    },
    {
      "cell_type": "code",
      "metadata": {
        "id": "xjeKolFYJeSJ"
      },
      "source": [
        "# Note: please put the correct directory to save the weights accordingly if you want to run the code\n",
        "filepath = \"/content/sample_data/Best6_layer5(layer_id=2)_3epoch_saved-model-{epoch:02d}.hdf5\"\n",
        "checkpoint = tf.keras.callbacks.ModelCheckpoint(filepath, monitor='val_acc', verbose=1,\n",
        "                                                save_weights_only=True, save_best_only=False, mode='auto')"
      ],
      "execution_count": 56,
      "outputs": []
    },
    {
      "cell_type": "code",
      "metadata": {
        "id": "SAm0dk1gJeVL",
        "colab": {
          "base_uri": "https://localhost:8080/"
        },
        "outputId": "f39e8f33-6ecf-46f5-cc7a-6f20651b1a31"
      },
      "source": [
        "H = model.fit(X_train, to_categorical(Y_train), epochs=3, batch_size=256, initial_epoch=0,\n",
        "              validation_data=(X_test, to_categorical(Y_test)), verbose=1,\n",
        "              callbacks=[checkpoint])"
      ],
      "execution_count": 57,
      "outputs": [
        {
          "output_type": "stream",
          "text": [
            "Epoch 1/3\n",
            "26/26 [==============================] - 606s 23s/step - loss: 0.2707 - accuracy: 0.6230 - val_loss: 0.2717 - val_accuracy: 0.6186\n",
            "\n",
            "Epoch 00001: saving model to /content/sample_data/Best6_layer5(layer_id=2)_3epoch_saved-model-01.hdf5\n",
            "Epoch 2/3\n",
            "26/26 [==============================] - 605s 23s/step - loss: 0.2704 - accuracy: 0.6132 - val_loss: 0.2709 - val_accuracy: 0.6222\n",
            "\n",
            "Epoch 00002: saving model to /content/sample_data/Best6_layer5(layer_id=2)_3epoch_saved-model-02.hdf5\n",
            "Epoch 3/3\n",
            "26/26 [==============================] - 610s 24s/step - loss: 0.2675 - accuracy: 0.6219 - val_loss: 0.2729 - val_accuracy: 0.6190\n",
            "\n",
            "Epoch 00003: saving model to /content/sample_data/Best6_layer5(layer_id=2)_3epoch_saved-model-03.hdf5\n"
          ],
          "name": "stdout"
        }
      ]
    },
    {
      "cell_type": "code",
      "metadata": {
        "id": "w2zUR-P6JeYj"
      },
      "source": [
        "# load the parameters that is considered giving the best balance between train and test accuracy\n",
        "model.load_weights('./Model/Best6_layer5(layer_id=2)_set5000_10epoch_saved-model-08.hdf5')\n",
        "\n",
        "\n",
        "# keep that parameters and replace the initial one\n",
        "params_layer_2 = model.get_weights()[0]\n",
        "params_fix[:, 2, :] = params_layer_2"
      ],
      "execution_count": null,
      "outputs": []
    },
    {
      "cell_type": "markdown",
      "metadata": {
        "id": "X_RxcJ8rJ-8g"
      },
      "source": [
        "**4th Layer**"
      ]
    },
    {
      "cell_type": "code",
      "metadata": {
        "id": "QjH0FSD-Jeb0"
      },
      "source": [
        "n_qubits = 2  # number of class\n",
        "dev_fc = qml.device(\"default.qubit\", wires=n_qubits)\n",
        "layer_id = 3 # the layer index to be trained, it starts from zero because of Numpy convention\n",
        "\n",
        "@qml.qnode(dev_fc)\n",
        "def q_fc(params, inputs):\n",
        "    \"\"\"A variational quantum circuit representing the DRC.\n",
        "\n",
        "    Args:\n",
        "        params (array[float]): array of parameters\n",
        "        inputs (array[float]): 1-d input vector (data sample)\n",
        "\n",
        "    Returns:\n",
        "        array[float]: 1-d output vector in the form of [alpha0*<O0>, alpha1*<O1>]\n",
        "    \"\"\"\n",
        "    \n",
        "    # layer iteration\n",
        "    for l in range(len(params_fix[0])):\n",
        "        # qubit iteration\n",
        "        for q in range(n_qubits):\n",
        "            # gate iteration\n",
        "            for g in range(int(len(inputs)/3)):\n",
        "              if l == layer_id: # train only the specified layer\n",
        "                qml.Rot(*(params[0][3*g:3*(g+1)] * inputs[3*g:3*(g+1)] + params[1][3*g:3*(g+1)]), wires=q)\n",
        "              else:\n",
        "                qml.Rot(*(params_fix[0][l][3*g:3*(g+1)] * inputs[3*g:3*(g+1)] + params_fix[1][l][3*g:3*(g+1)]), wires=q)\n",
        "    \n",
        "    return [qml.expval(qml.Hermitian(dm_labels[i], wires=[i])) for i in range(n_qubits)]"
      ],
      "execution_count": null,
      "outputs": []
    },
    {
      "cell_type": "code",
      "metadata": {
        "id": "Y0mlC1teKGdK"
      },
      "source": [
        "n_component = 6 # number of features used\n",
        "\n",
        "X = tf.keras.Input(shape=(n_component,), name='Input_Layer')\n",
        "\n",
        "\n",
        "# Quantum Layer\n",
        "q_fc_layer = qml.qnn.KerasLayer(q_fc, {\"params\": (2, n_component)}, output_dim=2)(X)\n",
        "\n",
        "# Alpha Layer\n",
        "alpha_layer = class_weights()(q_fc_layer)\n",
        "\n",
        "model = tf.keras.Model(inputs=X, outputs=alpha_layer)"
      ],
      "execution_count": null,
      "outputs": []
    },
    {
      "cell_type": "code",
      "metadata": {
        "id": "InoTB0x2KGpD"
      },
      "source": [
        "opt = tf.keras.optimizers.Adam(learning_rate=0.05)\n",
        "model.compile(opt, loss='mse', metrics=[\"accuracy\"])"
      ],
      "execution_count": null,
      "outputs": []
    },
    {
      "cell_type": "code",
      "metadata": {
        "id": "GZ3QYe55KGv2"
      },
      "source": [
        "# Note: please put the correct directory to save the weights accordingly if you want to run the code\n",
        "filepath = \"./Model/Best6_layer5(layer_id=3)_set5000_10epoch_saved-model-{epoch:02d}.hdf5\"\n",
        "checkpoint = tf.keras.callbacks.ModelCheckpoint(filepath, monitor='val_acc', verbose=1,\n",
        "                                                save_weights_only=True, save_best_only=False, mode='auto')"
      ],
      "execution_count": null,
      "outputs": []
    },
    {
      "cell_type": "code",
      "metadata": {
        "id": "xRUvb7oYKGxs"
      },
      "source": [
        "H = model.fit(X_train, to_categorical(Y_train), epochs=10, batch_size=128, initial_epoch=0,\n",
        "              validation_data=(X_test, to_categorical(Y_test)), verbose=1,\n",
        "              callbacks=[checkpoint])"
      ],
      "execution_count": null,
      "outputs": []
    },
    {
      "cell_type": "code",
      "metadata": {
        "id": "wyzoJqVMKG0M"
      },
      "source": [
        "# load the parameters that is considered giving the best balance between train and test accuracy\n",
        "model.load_weights('./Model/Best6_layer5(layer_id=3)_set5000_10epoch_saved-model-08.hdf5')\n",
        "\n",
        "\n",
        "# keep that parameters and replace the initial one\n",
        "params_layer_3 = model.get_weights()[0]\n",
        "params_fix[:, 3, :] = params_layer_3\n",
        "\n"
      ],
      "execution_count": null,
      "outputs": []
    },
    {
      "cell_type": "markdown",
      "metadata": {
        "id": "dM1OX1lTKXKU"
      },
      "source": [
        "**5th Layer**"
      ]
    },
    {
      "cell_type": "code",
      "metadata": {
        "id": "4C2thMTSKG2a"
      },
      "source": [
        "n_qubits = 2  # number of class\n",
        "dev_fc = qml.device(\"default.qubit\", wires=n_qubits)\n",
        "layer_id = 4 # the layer index to be trained, it starts from zero because of Numpy convention\n",
        "\n",
        "@qml.qnode(dev_fc)\n",
        "def q_fc(params, inputs):\n",
        "    \"\"\"A variational quantum circuit representing the DRC.\n",
        "\n",
        "    Args:\n",
        "        params (array[float]): array of parameters\n",
        "        inputs (array[float]): 1-d input vector (data sample)\n",
        "\n",
        "    Returns:\n",
        "        array[float]: 1-d output vector in the form of [alpha0*<O0>, alpha1*<O1>]\n",
        "    \"\"\"\n",
        "    \n",
        "    # layer iteration\n",
        "    for l in range(len(params_fix[0])):\n",
        "        # qubit iteration\n",
        "        for q in range(n_qubits):\n",
        "            # gate iteration\n",
        "            for g in range(int(len(inputs)/3)):\n",
        "              if l == layer_id: # train only the specified layer\n",
        "                qml.Rot(*(params[0][3*g:3*(g+1)] * inputs[3*g:3*(g+1)] + params[1][3*g:3*(g+1)]), wires=q)\n",
        "              else:\n",
        "                qml.Rot(*(params_fix[0][l][3*g:3*(g+1)] * inputs[3*g:3*(g+1)] + params_fix[1][l][3*g:3*(g+1)]), wires=q)\n",
        "    \n",
        "    return [qml.expval(qml.Hermitian(dm_labels[i], wires=[i])) for i in range(n_qubits)]"
      ],
      "execution_count": null,
      "outputs": []
    },
    {
      "cell_type": "code",
      "metadata": {
        "id": "TBx6jcxAKG4t"
      },
      "source": [
        "n_component = 6 # number of features used\n",
        "\n",
        "X = tf.keras.Input(shape=(n_component,), name='Input_Layer')\n",
        "\n",
        "\n",
        "# Quantum Layer\n",
        "q_fc_layer = qml.qnn.KerasLayer(q_fc, {\"params\": (2, n_component)}, output_dim=2)(X)\n",
        "\n",
        "# Alpha Layer\n",
        "alpha_layer = class_weights()(q_fc_layer)\n",
        "\n",
        "model = tf.keras.Model(inputs=X, outputs=alpha_layer)"
      ],
      "execution_count": null,
      "outputs": []
    },
    {
      "cell_type": "code",
      "metadata": {
        "id": "LFrr5qt5KG74"
      },
      "source": [
        "opt = tf.keras.optimizers.Adam(learning_rate=0.05)\n",
        "model.compile(opt, loss='mse', metrics=[\"accuracy\"])"
      ],
      "execution_count": null,
      "outputs": []
    },
    {
      "cell_type": "code",
      "metadata": {
        "id": "JlGzjF7EKG_W"
      },
      "source": [
        "# Note: please put the correct directory to save the weights accordingly if you want to run the code\n",
        "filepath = \"./Model/Best6_layer5(layer_id=4)_set5000_10epoch_saved-model-{epoch:02d}.hdf5\"\n",
        "checkpoint = tf.keras.callbacks.ModelCheckpoint(filepath, monitor='val_acc', verbose=1,\n",
        "                                                save_weights_only=True, save_best_only=False, mode='auto')"
      ],
      "execution_count": null,
      "outputs": []
    },
    {
      "cell_type": "code",
      "metadata": {
        "id": "iuyfflQDKHN_"
      },
      "source": [
        "H = model.fit(X_train, to_categorical(Y_train), epochs=10, batch_size=128, initial_epoch=0,\n",
        "              validation_data=(X_test, to_categorical(Y_test)), verbose=1,\n",
        "              callbacks=[checkpoint])"
      ],
      "execution_count": null,
      "outputs": []
    },
    {
      "cell_type": "code",
      "metadata": {
        "id": "vadhmtfUKHRP"
      },
      "source": [
        "# load the parameters that is considered giving the best balance between train and test accuracy\n",
        "model.load_weights('./Model/Best6_layer5(layer_id=4)_set5000_10epoch_saved-model-08.hdf5')\n",
        "\n",
        "\n",
        "# keep that parameters and replace the initial one\n",
        "params_layer_4 = model.get_weights()[0]\n",
        "params_fix[:, 4, :] = params_layer_4"
      ],
      "execution_count": null,
      "outputs": []
    },
    {
      "cell_type": "markdown",
      "metadata": {
        "id": "cPynKdGdKuhd"
      },
      "source": [
        "**Final Training**"
      ]
    },
    {
      "cell_type": "code",
      "metadata": {
        "id": "QZkLkl31KHUH"
      },
      "source": [
        "n_qubits = 2  # number of class\n",
        "dev_fc = qml.device(\"default.qubit\", wires=n_qubits)\n",
        "\n",
        "@qml.qnode(dev_fc)\n",
        "def q_fc(params, inputs):\n",
        "    \"\"\"A variational quantum circuit representing the DRC.\n",
        "\n",
        "    Args:\n",
        "        params (array[float]): array of parameters\n",
        "        inputs (array[float]): 1-d input vector (data sample)\n",
        "\n",
        "    Returns:\n",
        "        array[float]: 1-d output vector in the form of [alpha0*<O0>, alpha1*<O1>]\n",
        "    \"\"\"\n",
        "    \n",
        "    # layer iteration\n",
        "    for l in range(len(params[0])):\n",
        "        # qubit iteration\n",
        "        for q in range(n_qubits):\n",
        "            # gate iteration\n",
        "            for g in range(int(len(inputs)/3)):\n",
        "              qml.Rot(*(params[0][l][3*g:3*(g+1)] * inputs[3*g:3*(g+1)] + params[1][l][3*g:3*(g+1)]), wires=q)\n",
        "    \n",
        "    return [qml.expval(qml.Hermitian(dm_labels[i], wires=[i])) for i in range(n_qubits)]"
      ],
      "execution_count": null,
      "outputs": []
    },
    {
      "cell_type": "code",
      "metadata": {
        "id": "eOYdQKhaKzNl"
      },
      "source": [
        "n_component = 6\n",
        "\n",
        "X = tf.keras.Input(shape=(n_component,), name='Input_Layer')\n",
        "\n",
        "\n",
        "# Quantum Layer\n",
        "num_fc_layer = 5\n",
        "q_fc_layer = qml.qnn.KerasLayer(q_fc, {\"params\": (2, num_fc_layer, n_component)}, output_dim=2)(X)\n",
        "\n",
        "# Alpha Layer\n",
        "alpha_layer = class_weights()(q_fc_layer)\n",
        "\n",
        "model = tf.keras.Model(inputs=X, outputs=alpha_layer)"
      ],
      "execution_count": null,
      "outputs": []
    },
    {
      "cell_type": "code",
      "metadata": {
        "id": "hEe9DbG4KzQp"
      },
      "source": [
        "# view each of the layer's name and its specifications\n",
        "model.summary()"
      ],
      "execution_count": null,
      "outputs": []
    },
    {
      "cell_type": "code",
      "metadata": {
        "id": "7t5UOSPcKzTx"
      },
      "source": [
        "model(X_train[0:3])\n",
        "\n",
        "# set the initial weights to the params_fix that has been optimized layer by layer\n",
        "# Note: please change the name of the keras layer accordingly based on the model.summary()\n",
        "model.get_layer('keras_layer').set_weights([params_fix])"
      ],
      "execution_count": null,
      "outputs": []
    },
    {
      "cell_type": "code",
      "metadata": {
        "id": "VrFbdrrZKzWy"
      },
      "source": [
        "opt = tf.keras.optimizers.Adam(learning_rate=0.05)\n",
        "model.compile(opt, loss='mse', metrics=[\"accuracy\"])"
      ],
      "execution_count": null,
      "outputs": []
    },
    {
      "cell_type": "code",
      "metadata": {
        "id": "Vx1gDFVFKzZ7"
      },
      "source": [
        "# Note: please put the correct directory to save the weights accordingly if you want to run the code\n",
        "filepath = \"./Model/Best6_layer5(layer_id=all)_set5000_10epoch_saved-model-{epoch:02d}.hdf5\"\n",
        "checkpoint = tf.keras.callbacks.ModelCheckpoint(filepath, monitor='val_acc', verbose=1,\n",
        "                                                save_weights_only=True, save_best_only=False, mode='auto')"
      ],
      "execution_count": null,
      "outputs": []
    },
    {
      "cell_type": "code",
      "metadata": {
        "id": "hja6mSU6Kzbv"
      },
      "source": [
        "H = model.fit(X_train, to_categorical(Y_train), epochs=10, batch_size=128, initial_epoch=0,\n",
        "              validation_data=(X_test, to_categorical(Y_test)), verbose=1,\n",
        "              callbacks=[checkpoint])"
      ],
      "execution_count": null,
      "outputs": []
    },
    {
      "cell_type": "code",
      "metadata": {
        "id": "7Q8_pMeyKzfJ"
      },
      "source": [
        "# load the parameters that is considered giving the best balance between train and test accuracy\n",
        "model.load_weights('./Model/Best6_layer5(layer_id=all)_set5000_10epoch_saved-model-08.hdf5')\n",
        "\n",
        "\n",
        "# keep the parameters as the best params, also keep the weight vector alpha\n",
        "best_params = model.get_weights()[0]\n",
        "alpha = model.get_weights()[1]"
      ],
      "execution_count": null,
      "outputs": []
    },
    {
      "cell_type": "markdown",
      "metadata": {
        "id": "vS0vPxOxLMfb"
      },
      "source": [
        "**Testing the Performance**"
      ]
    },
    {
      "cell_type": "code",
      "metadata": {
        "id": "GQMr8Vt4KzhM"
      },
      "source": [
        "best_params"
      ],
      "execution_count": null,
      "outputs": []
    },
    {
      "cell_type": "code",
      "metadata": {
        "id": "_bNDu_fsKzje"
      },
      "source": [
        "alpha "
      ],
      "execution_count": null,
      "outputs": []
    },
    {
      "cell_type": "code",
      "metadata": {
        "id": "vI1eaf9jKzlv"
      },
      "source": [
        "# view each of the layer's name and its specifications\n",
        "model.summary()"
      ],
      "execution_count": null,
      "outputs": []
    },
    {
      "cell_type": "code",
      "metadata": {
        "id": "mApm_szWKHW0"
      },
      "source": [
        "# load the parameters to the model\n",
        "# Note: please change the name of the keras layer accordingly based on the model.summary()\n",
        "model.get_layer('keras_layer').set_weights([best_params])\n",
        "model.get_layer('class_weights').set_weights([np.array([alpha])])"
      ],
      "execution_count": null,
      "outputs": []
    },
    {
      "cell_type": "code",
      "metadata": {
        "id": "rEySODFqKHaP"
      },
      "source": [
        "from sklearn.metrics import roc_auc_score"
      ],
      "execution_count": null,
      "outputs": []
    },
    {
      "cell_type": "code",
      "metadata": {
        "id": "LLEx0j2sKHdF"
      },
      "source": [
        "#AUC for training set\n",
        "\n",
        "Y_pred_train = model.predict(X_train)\n",
        "roc_auc_score(Y_train, Y_pred_train[:, 1])"
      ],
      "execution_count": null,
      "outputs": []
    },
    {
      "cell_type": "code",
      "metadata": {
        "id": "5VDEQpsnKHez"
      },
      "source": [
        "#AUC for testing set\n",
        "\n",
        "Y_pred_test = model.predict(X_test)\n",
        "roc_auc_score(Y_test, Y_pred_test[:, 1])"
      ],
      "execution_count": null,
      "outputs": []
    }
  ]
}